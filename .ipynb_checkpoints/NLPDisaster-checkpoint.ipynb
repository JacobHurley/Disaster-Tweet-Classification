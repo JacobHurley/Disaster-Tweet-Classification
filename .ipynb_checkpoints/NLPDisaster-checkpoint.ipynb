{
 "cells": [
  {
   "cell_type": "markdown",
   "id": "1cfb442c-088a-463a-8e17-adc2f0bb9ba5",
   "metadata": {},
   "source": [
    "# Introduction"
   ]
  },
  {
   "cell_type": "markdown",
   "id": "e46aed7a-94aa-4cca-989d-30612e593d1a",
   "metadata": {},
   "source": [
    "## Why Twitter Data?\n",
    "Twitter is widely used to quickly spread information, however the information is not always true or important as it is also used as a normal social media. It is important to be able to quickly identify important information from this vast sea of information."
   ]
  },
  {
   "cell_type": "markdown",
   "id": "324cbc79-0dc5-47ae-a78a-8a81ede510e8",
   "metadata": {},
   "source": [
    "## How do we solve it?\n",
    "We will use a LLM as a benchmark for performance and then use different methods of RNNs such as GRUs"
   ]
  },
  {
   "cell_type": "markdown",
   "id": "9c556009-fa48-4f83-98e8-5e27945c61f3",
   "metadata": {},
   "source": [
    "## Where did this data come from?\n",
    "This data came from https://www.kaggle.com/competitions/nlp-getting-started and is a collection of tweets classified as 0 for not having to do with a disaster, or 1 for a disaster"
   ]
  },
  {
   "cell_type": "code",
   "execution_count": 1,
   "id": "9f2d3446-e0df-48ca-b8b5-112635ff0d2e",
   "metadata": {},
   "outputs": [],
   "source": [
    "import warnings\n",
    "warnings.filterwarnings('ignore')"
   ]
  },
  {
   "cell_type": "code",
   "execution_count": 2,
   "id": "a0ad312a-a2a5-408e-845c-55dd5eb368dd",
   "metadata": {},
   "outputs": [
    {
     "name": "stderr",
     "output_type": "stream",
     "text": [
      "2024-12-06 23:24:13.343828: I tensorflow/core/util/port.cc:113] oneDNN custom operations are on. You may see slightly different numerical results due to floating-point round-off errors from different computation orders. To turn them off, set the environment variable `TF_ENABLE_ONEDNN_OPTS=0`.\n",
      "2024-12-06 23:24:13.521093: E external/local_xla/xla/stream_executor/cuda/cuda_dnn.cc:9261] Unable to register cuDNN factory: Attempting to register factory for plugin cuDNN when one has already been registered\n",
      "2024-12-06 23:24:13.521128: E external/local_xla/xla/stream_executor/cuda/cuda_fft.cc:607] Unable to register cuFFT factory: Attempting to register factory for plugin cuFFT when one has already been registered\n",
      "2024-12-06 23:24:13.545378: E external/local_xla/xla/stream_executor/cuda/cuda_blas.cc:1515] Unable to register cuBLAS factory: Attempting to register factory for plugin cuBLAS when one has already been registered\n",
      "2024-12-06 23:24:13.600205: I tensorflow/core/platform/cpu_feature_guard.cc:182] This TensorFlow binary is optimized to use available CPU instructions in performance-critical operations.\n",
      "To enable the following instructions: AVX2 AVX_VNNI FMA, in other operations, rebuild TensorFlow with the appropriate compiler flags.\n"
     ]
    },
    {
     "name": "stdout",
     "output_type": "stream",
     "text": [
      "CUDA Version: 12.2\n",
      "cuDNN Version: 8\n",
      "Tensorflow Version:  2.15.0\n",
      "Num GPUs Available:  1\n",
      "Available GPUs:  [PhysicalDevice(name='/physical_device:GPU:0', device_type='GPU')]\n",
      "TensorFlow is using the GPU!\n",
      "Current memory usage: 0 bytes\n",
      "Peak memory usage: 0 bytes\n"
     ]
    },
    {
     "name": "stderr",
     "output_type": "stream",
     "text": [
      "2024-12-06 23:24:16.240454: I external/local_xla/xla/stream_executor/cuda/cuda_executor.cc:887] could not open file to read NUMA node: /sys/bus/pci/devices/0000:01:00.0/numa_node\n",
      "Your kernel may have been built without NUMA support.\n",
      "2024-12-06 23:24:16.276351: I external/local_xla/xla/stream_executor/cuda/cuda_executor.cc:887] could not open file to read NUMA node: /sys/bus/pci/devices/0000:01:00.0/numa_node\n",
      "Your kernel may have been built without NUMA support.\n",
      "2024-12-06 23:24:16.276376: I external/local_xla/xla/stream_executor/cuda/cuda_executor.cc:887] could not open file to read NUMA node: /sys/bus/pci/devices/0000:01:00.0/numa_node\n",
      "Your kernel may have been built without NUMA support.\n",
      "2024-12-06 23:24:16.279666: I external/local_xla/xla/stream_executor/cuda/cuda_executor.cc:887] could not open file to read NUMA node: /sys/bus/pci/devices/0000:01:00.0/numa_node\n",
      "Your kernel may have been built without NUMA support.\n",
      "2024-12-06 23:24:16.279687: I external/local_xla/xla/stream_executor/cuda/cuda_executor.cc:887] could not open file to read NUMA node: /sys/bus/pci/devices/0000:01:00.0/numa_node\n",
      "Your kernel may have been built without NUMA support.\n",
      "2024-12-06 23:24:16.279696: I external/local_xla/xla/stream_executor/cuda/cuda_executor.cc:887] could not open file to read NUMA node: /sys/bus/pci/devices/0000:01:00.0/numa_node\n",
      "Your kernel may have been built without NUMA support.\n",
      "2024-12-06 23:24:16.519779: I external/local_xla/xla/stream_executor/cuda/cuda_executor.cc:887] could not open file to read NUMA node: /sys/bus/pci/devices/0000:01:00.0/numa_node\n",
      "Your kernel may have been built without NUMA support.\n",
      "2024-12-06 23:24:16.519812: I external/local_xla/xla/stream_executor/cuda/cuda_executor.cc:887] could not open file to read NUMA node: /sys/bus/pci/devices/0000:01:00.0/numa_node\n",
      "Your kernel may have been built without NUMA support.\n",
      "2024-12-06 23:24:16.519817: I tensorflow/core/common_runtime/gpu/gpu_device.cc:2022] Could not identify NUMA node of platform GPU id 0, defaulting to 0.  Your kernel may not have been built with NUMA support.\n",
      "2024-12-06 23:24:16.519835: I external/local_xla/xla/stream_executor/cuda/cuda_executor.cc:887] could not open file to read NUMA node: /sys/bus/pci/devices/0000:01:00.0/numa_node\n",
      "Your kernel may have been built without NUMA support.\n",
      "2024-12-06 23:24:16.519866: I tensorflow/core/common_runtime/gpu/gpu_device.cc:1929] Created device /job:localhost/replica:0/task:0/device:GPU:0 with 7537 MB memory:  -> device: 0, name: NVIDIA GeForce RTX 3080, pci bus id: 0000:01:00.0, compute capability: 8.6\n"
     ]
    }
   ],
   "source": [
    "import tensorflow as tf\n",
    "print(\"CUDA Version:\", tf.sysconfig.get_build_info()[\"cuda_version\"])\n",
    "print(\"cuDNN Version:\", tf.sysconfig.get_build_info()[\"cudnn_version\"])\n",
    "print(\"Tensorflow Version: \", str(tf.__version__))\n",
    "# List available GPUs\n",
    "gpus = tf.config.list_physical_devices('GPU')\n",
    "print(\"Num GPUs Available: \", len(gpus))\n",
    "print(\"Available GPUs: \", gpus)\n",
    "\n",
    "# Check if TensorFlow can access the GPU\n",
    "if gpus:\n",
    "    tf.config.experimental.set_memory_growth(gpus[0], True)\n",
    "    print(\"TensorFlow is using the GPU!\")\n",
    "else:\n",
    "    print(\"TensorFlow is NOT using the GPU.\")\n",
    "if gpus:\n",
    "    # Get memory info for the first GPU\n",
    "    memory_info = tf.config.experimental.get_memory_info('GPU:0')\n",
    "    print(f\"Current memory usage: {memory_info['current']} bytes\")\n",
    "    print(f\"Peak memory usage: {memory_info['peak']} bytes\")"
   ]
  },
  {
   "cell_type": "code",
   "execution_count": 3,
   "id": "07fd888c-4ec5-433d-a032-0a14cf97808d",
   "metadata": {},
   "outputs": [],
   "source": [
    "import numpy as np\n",
    "import pandas as pd\n",
    "import matplotlib.pyplot as plt\n",
    "import sklearn\n",
    "import nltk\n",
    "import altair as alt\n",
    "import seaborn as sns"
   ]
  },
  {
   "cell_type": "code",
   "execution_count": 4,
   "id": "39f3e527-cf1e-4abe-b3a1-3f2a5d32ec9a",
   "metadata": {},
   "outputs": [],
   "source": [
    "trainData = pd.read_csv('Data/train.csv')\n",
    "testData = pd.read_csv('Data/test.csv')"
   ]
  },
  {
   "cell_type": "markdown",
   "id": "b73c9035-4a33-499f-9f9f-809cd2b05ed1",
   "metadata": {},
   "source": [
    "# EDA\n",
    "In this section we will explore the data to get an idea of what we are working with before creating our models. Ideas for possible EDA comes from https://www.kaggle.com/code/harshsingh2209/complete-guide-to-eda-on-text-data"
   ]
  },
  {
   "cell_type": "code",
   "execution_count": 5,
   "id": "78f593d8-f18d-4b5a-b56c-7e41cf70bad6",
   "metadata": {},
   "outputs": [
    {
     "name": "stdout",
     "output_type": "stream",
     "text": [
      "shape of training data is: (7613, 5)\n"
     ]
    }
   ],
   "source": [
    "print(\"shape of training data is: {}\".format(trainData.shape))"
   ]
  },
  {
   "cell_type": "code",
   "execution_count": 6,
   "id": "7ab807e3-f3ae-4a89-badc-3cc4174f34de",
   "metadata": {},
   "outputs": [
    {
     "data": {
      "text/html": [
       "<div>\n",
       "<style scoped>\n",
       "    .dataframe tbody tr th:only-of-type {\n",
       "        vertical-align: middle;\n",
       "    }\n",
       "\n",
       "    .dataframe tbody tr th {\n",
       "        vertical-align: top;\n",
       "    }\n",
       "\n",
       "    .dataframe thead th {\n",
       "        text-align: right;\n",
       "    }\n",
       "</style>\n",
       "<table border=\"1\" class=\"dataframe\">\n",
       "  <thead>\n",
       "    <tr style=\"text-align: right;\">\n",
       "      <th></th>\n",
       "      <th>id</th>\n",
       "      <th>keyword</th>\n",
       "      <th>location</th>\n",
       "      <th>text</th>\n",
       "      <th>target</th>\n",
       "    </tr>\n",
       "  </thead>\n",
       "  <tbody>\n",
       "    <tr>\n",
       "      <th>0</th>\n",
       "      <td>1</td>\n",
       "      <td>NaN</td>\n",
       "      <td>NaN</td>\n",
       "      <td>Our Deeds are the Reason of this #earthquake M...</td>\n",
       "      <td>1</td>\n",
       "    </tr>\n",
       "    <tr>\n",
       "      <th>1</th>\n",
       "      <td>4</td>\n",
       "      <td>NaN</td>\n",
       "      <td>NaN</td>\n",
       "      <td>Forest fire near La Ronge Sask. Canada</td>\n",
       "      <td>1</td>\n",
       "    </tr>\n",
       "    <tr>\n",
       "      <th>2</th>\n",
       "      <td>5</td>\n",
       "      <td>NaN</td>\n",
       "      <td>NaN</td>\n",
       "      <td>All residents asked to 'shelter in place' are ...</td>\n",
       "      <td>1</td>\n",
       "    </tr>\n",
       "    <tr>\n",
       "      <th>3</th>\n",
       "      <td>6</td>\n",
       "      <td>NaN</td>\n",
       "      <td>NaN</td>\n",
       "      <td>13,000 people receive #wildfires evacuation or...</td>\n",
       "      <td>1</td>\n",
       "    </tr>\n",
       "    <tr>\n",
       "      <th>4</th>\n",
       "      <td>7</td>\n",
       "      <td>NaN</td>\n",
       "      <td>NaN</td>\n",
       "      <td>Just got sent this photo from Ruby #Alaska as ...</td>\n",
       "      <td>1</td>\n",
       "    </tr>\n",
       "  </tbody>\n",
       "</table>\n",
       "</div>"
      ],
      "text/plain": [
       "   id keyword location                                               text  \\\n",
       "0   1     NaN      NaN  Our Deeds are the Reason of this #earthquake M...   \n",
       "1   4     NaN      NaN             Forest fire near La Ronge Sask. Canada   \n",
       "2   5     NaN      NaN  All residents asked to 'shelter in place' are ...   \n",
       "3   6     NaN      NaN  13,000 people receive #wildfires evacuation or...   \n",
       "4   7     NaN      NaN  Just got sent this photo from Ruby #Alaska as ...   \n",
       "\n",
       "   target  \n",
       "0       1  \n",
       "1       1  \n",
       "2       1  \n",
       "3       1  \n",
       "4       1  "
      ]
     },
     "metadata": {},
     "output_type": "display_data"
    }
   ],
   "source": [
    "display(trainData.head(5))"
   ]
  },
  {
   "cell_type": "markdown",
   "id": "5e0fcebb-988e-43d6-b404-1745fa31b414",
   "metadata": {},
   "source": [
    "Lets check the percentage of each label for our target"
   ]
  },
  {
   "cell_type": "code",
   "execution_count": 7,
   "id": "359dcc7a-19ae-4735-8b85-9838679e4d97",
   "metadata": {},
   "outputs": [
    {
     "data": {
      "text/html": [
       "\n",
       "<style>\n",
       "  #altair-viz-3775a10bb212417cb17fd8de688837b6.vega-embed {\n",
       "    width: 100%;\n",
       "    display: flex;\n",
       "  }\n",
       "\n",
       "  #altair-viz-3775a10bb212417cb17fd8de688837b6.vega-embed details,\n",
       "  #altair-viz-3775a10bb212417cb17fd8de688837b6.vega-embed details summary {\n",
       "    position: relative;\n",
       "  }\n",
       "</style>\n",
       "<div id=\"altair-viz-3775a10bb212417cb17fd8de688837b6\"></div>\n",
       "<script type=\"text/javascript\">\n",
       "  var VEGA_DEBUG = (typeof VEGA_DEBUG == \"undefined\") ? {} : VEGA_DEBUG;\n",
       "  (function(spec, embedOpt){\n",
       "    let outputDiv = document.currentScript.previousElementSibling;\n",
       "    if (outputDiv.id !== \"altair-viz-3775a10bb212417cb17fd8de688837b6\") {\n",
       "      outputDiv = document.getElementById(\"altair-viz-3775a10bb212417cb17fd8de688837b6\");\n",
       "    }\n",
       "\n",
       "    const paths = {\n",
       "      \"vega\": \"https://cdn.jsdelivr.net/npm/vega@5?noext\",\n",
       "      \"vega-lib\": \"https://cdn.jsdelivr.net/npm/vega-lib?noext\",\n",
       "      \"vega-lite\": \"https://cdn.jsdelivr.net/npm/vega-lite@5.20.1?noext\",\n",
       "      \"vega-embed\": \"https://cdn.jsdelivr.net/npm/vega-embed@6?noext\",\n",
       "    };\n",
       "\n",
       "    function maybeLoadScript(lib, version) {\n",
       "      var key = `${lib.replace(\"-\", \"\")}_version`;\n",
       "      return (VEGA_DEBUG[key] == version) ?\n",
       "        Promise.resolve(paths[lib]) :\n",
       "        new Promise(function(resolve, reject) {\n",
       "          var s = document.createElement('script');\n",
       "          document.getElementsByTagName(\"head\")[0].appendChild(s);\n",
       "          s.async = true;\n",
       "          s.onload = () => {\n",
       "            VEGA_DEBUG[key] = version;\n",
       "            return resolve(paths[lib]);\n",
       "          };\n",
       "          s.onerror = () => reject(`Error loading script: ${paths[lib]}`);\n",
       "          s.src = paths[lib];\n",
       "        });\n",
       "    }\n",
       "\n",
       "    function showError(err) {\n",
       "      outputDiv.innerHTML = `<div class=\"error\" style=\"color:red;\">${err}</div>`;\n",
       "      throw err;\n",
       "    }\n",
       "\n",
       "    function displayChart(vegaEmbed) {\n",
       "      vegaEmbed(outputDiv, spec, embedOpt)\n",
       "        .catch(err => showError(`Javascript Error: ${err.message}<br>This usually means there's a typo in your chart specification. See the javascript console for the full traceback.`));\n",
       "    }\n",
       "\n",
       "    if(typeof define === \"function\" && define.amd) {\n",
       "      requirejs.config({paths});\n",
       "      let deps = [\"vega-embed\"];\n",
       "      require(deps, displayChart, err => showError(`Error loading script: ${err.message}`));\n",
       "    } else {\n",
       "      maybeLoadScript(\"vega\", \"5\")\n",
       "        .then(() => maybeLoadScript(\"vega-lite\", \"5.20.1\"))\n",
       "        .then(() => maybeLoadScript(\"vega-embed\", \"6\"))\n",
       "        .catch(showError)\n",
       "        .then(() => displayChart(vegaEmbed));\n",
       "    }\n",
       "  })({\"config\": {\"view\": {\"continuousWidth\": 300, \"continuousHeight\": 300}}, \"data\": {\"name\": \"data-ed2567edd3d6e863e016b67faa76edd2\"}, \"mark\": {\"type\": \"bar\"}, \"encoding\": {\"tooltip\": {\"field\": \"count\", \"type\": \"quantitative\"}, \"x\": {\"field\": \"target\", \"type\": \"ordinal\"}, \"y\": {\"field\": \"percentage\", \"scale\": {\"domain\": [0, 0.7]}, \"type\": \"quantitative\"}}, \"title\": \"Percentage of natural disaster tweets\", \"width\": 200, \"$schema\": \"https://vega.github.io/schema/vega-lite/v5.20.1.json\", \"datasets\": {\"data-ed2567edd3d6e863e016b67faa76edd2\": [{\"target\": 0, \"count\": 4342, \"percentage\": 0.5703402075397347}, {\"target\": 1, \"count\": 3271, \"percentage\": 0.4296597924602653}]}}, {\"mode\": \"vega-lite\"});\n",
       "</script>"
      ],
      "text/plain": [
       "alt.Chart(...)"
      ]
     },
     "execution_count": 7,
     "metadata": {},
     "output_type": "execute_result"
    }
   ],
   "source": [
    "targetCounts = trainData['target'].value_counts().reset_index()\n",
    "targetCounts['percentage'] = targetCounts['count'] / targetCounts['count'].sum()\n",
    "# targetCounts\n",
    "alt.Chart(targetCounts).mark_bar().encode(\n",
    "    x = 'target:O',\n",
    "    y = alt.Y('percentage:Q', scale = alt.Scale(domain=(0, 0.7))),\n",
    "    tooltip = 'count'\n",
    ").properties(\n",
    "    title = \"Percentage of natural disaster tweets\",\n",
    "    width = 200\n",
    ")"
   ]
  },
  {
   "cell_type": "markdown",
   "id": "14ec947b-850c-4588-9f68-26c432ff48f5",
   "metadata": {},
   "source": [
    "Before we change any of the text (remove stop words, links, etc) lets look at the pre-processed stats"
   ]
  },
  {
   "cell_type": "code",
   "execution_count": 8,
   "id": "76a5fa96-36fa-44af-a0ba-2001542f1b02",
   "metadata": {},
   "outputs": [
    {
     "data": {
      "text/html": [
       "<div>\n",
       "<style scoped>\n",
       "    .dataframe tbody tr th:only-of-type {\n",
       "        vertical-align: middle;\n",
       "    }\n",
       "\n",
       "    .dataframe tbody tr th {\n",
       "        vertical-align: top;\n",
       "    }\n",
       "\n",
       "    .dataframe thead th {\n",
       "        text-align: right;\n",
       "    }\n",
       "</style>\n",
       "<table border=\"1\" class=\"dataframe\">\n",
       "  <thead>\n",
       "    <tr style=\"text-align: right;\">\n",
       "      <th></th>\n",
       "      <th>id</th>\n",
       "      <th>keyword</th>\n",
       "      <th>location</th>\n",
       "      <th>text</th>\n",
       "      <th>target</th>\n",
       "      <th>CharCount</th>\n",
       "      <th>wordCount</th>\n",
       "      <th>NumOfHash</th>\n",
       "    </tr>\n",
       "  </thead>\n",
       "  <tbody>\n",
       "    <tr>\n",
       "      <th>0</th>\n",
       "      <td>1</td>\n",
       "      <td>NaN</td>\n",
       "      <td>NaN</td>\n",
       "      <td>Our Deeds are the Reason of this #earthquake M...</td>\n",
       "      <td>1</td>\n",
       "      <td>69</td>\n",
       "      <td>13</td>\n",
       "      <td>1</td>\n",
       "    </tr>\n",
       "    <tr>\n",
       "      <th>1</th>\n",
       "      <td>4</td>\n",
       "      <td>NaN</td>\n",
       "      <td>NaN</td>\n",
       "      <td>Forest fire near La Ronge Sask. Canada</td>\n",
       "      <td>1</td>\n",
       "      <td>38</td>\n",
       "      <td>7</td>\n",
       "      <td>0</td>\n",
       "    </tr>\n",
       "    <tr>\n",
       "      <th>2</th>\n",
       "      <td>5</td>\n",
       "      <td>NaN</td>\n",
       "      <td>NaN</td>\n",
       "      <td>All residents asked to 'shelter in place' are ...</td>\n",
       "      <td>1</td>\n",
       "      <td>133</td>\n",
       "      <td>22</td>\n",
       "      <td>0</td>\n",
       "    </tr>\n",
       "    <tr>\n",
       "      <th>3</th>\n",
       "      <td>6</td>\n",
       "      <td>NaN</td>\n",
       "      <td>NaN</td>\n",
       "      <td>13,000 people receive #wildfires evacuation or...</td>\n",
       "      <td>1</td>\n",
       "      <td>65</td>\n",
       "      <td>8</td>\n",
       "      <td>1</td>\n",
       "    </tr>\n",
       "    <tr>\n",
       "      <th>4</th>\n",
       "      <td>7</td>\n",
       "      <td>NaN</td>\n",
       "      <td>NaN</td>\n",
       "      <td>Just got sent this photo from Ruby #Alaska as ...</td>\n",
       "      <td>1</td>\n",
       "      <td>88</td>\n",
       "      <td>16</td>\n",
       "      <td>2</td>\n",
       "    </tr>\n",
       "  </tbody>\n",
       "</table>\n",
       "</div>"
      ],
      "text/plain": [
       "   id keyword location                                               text  \\\n",
       "0   1     NaN      NaN  Our Deeds are the Reason of this #earthquake M...   \n",
       "1   4     NaN      NaN             Forest fire near La Ronge Sask. Canada   \n",
       "2   5     NaN      NaN  All residents asked to 'shelter in place' are ...   \n",
       "3   6     NaN      NaN  13,000 people receive #wildfires evacuation or...   \n",
       "4   7     NaN      NaN  Just got sent this photo from Ruby #Alaska as ...   \n",
       "\n",
       "   target  CharCount  wordCount  NumOfHash  \n",
       "0       1         69         13          1  \n",
       "1       1         38          7          0  \n",
       "2       1        133         22          0  \n",
       "3       1         65          8          1  \n",
       "4       1         88         16          2  "
      ]
     },
     "execution_count": 8,
     "metadata": {},
     "output_type": "execute_result"
    }
   ],
   "source": [
    "def getWordCount(text):\n",
    "    return len(text.split())\n",
    "\n",
    "def getNumHash(text):\n",
    "    return len(text.split('#')) - 1\n",
    "\n",
    "trainData['CharCount'] = trainData['text'].str.len()\n",
    "trainData['wordCount'] = trainData['text'].apply(getWordCount)\n",
    "trainData['NumOfHash'] = trainData['text'].apply(getNumHash)\n",
    "trainData.head(5)"
   ]
  },
  {
   "cell_type": "code",
   "execution_count": 9,
   "id": "0dabb874-d7d5-495c-b6d6-830702b5e9b3",
   "metadata": {},
   "outputs": [
    {
     "data": {
      "text/html": [
       "<div>\n",
       "<style scoped>\n",
       "    .dataframe tbody tr th:only-of-type {\n",
       "        vertical-align: middle;\n",
       "    }\n",
       "\n",
       "    .dataframe tbody tr th {\n",
       "        vertical-align: top;\n",
       "    }\n",
       "\n",
       "    .dataframe thead th {\n",
       "        text-align: right;\n",
       "    }\n",
       "</style>\n",
       "<table border=\"1\" class=\"dataframe\">\n",
       "  <thead>\n",
       "    <tr style=\"text-align: right;\">\n",
       "      <th></th>\n",
       "      <th>CharCount</th>\n",
       "      <th>wordCount</th>\n",
       "      <th>NumOfHash</th>\n",
       "    </tr>\n",
       "  </thead>\n",
       "  <tbody>\n",
       "    <tr>\n",
       "      <th>count</th>\n",
       "      <td>7613.000000</td>\n",
       "      <td>7613.000000</td>\n",
       "      <td>7613.000000</td>\n",
       "    </tr>\n",
       "    <tr>\n",
       "      <th>mean</th>\n",
       "      <td>101.037436</td>\n",
       "      <td>14.903586</td>\n",
       "      <td>0.446999</td>\n",
       "    </tr>\n",
       "    <tr>\n",
       "      <th>std</th>\n",
       "      <td>33.781325</td>\n",
       "      <td>5.732604</td>\n",
       "      <td>1.099841</td>\n",
       "    </tr>\n",
       "    <tr>\n",
       "      <th>min</th>\n",
       "      <td>7.000000</td>\n",
       "      <td>1.000000</td>\n",
       "      <td>0.000000</td>\n",
       "    </tr>\n",
       "    <tr>\n",
       "      <th>25%</th>\n",
       "      <td>78.000000</td>\n",
       "      <td>11.000000</td>\n",
       "      <td>0.000000</td>\n",
       "    </tr>\n",
       "    <tr>\n",
       "      <th>50%</th>\n",
       "      <td>107.000000</td>\n",
       "      <td>15.000000</td>\n",
       "      <td>0.000000</td>\n",
       "    </tr>\n",
       "    <tr>\n",
       "      <th>75%</th>\n",
       "      <td>133.000000</td>\n",
       "      <td>19.000000</td>\n",
       "      <td>0.000000</td>\n",
       "    </tr>\n",
       "    <tr>\n",
       "      <th>max</th>\n",
       "      <td>157.000000</td>\n",
       "      <td>31.000000</td>\n",
       "      <td>13.000000</td>\n",
       "    </tr>\n",
       "  </tbody>\n",
       "</table>\n",
       "</div>"
      ],
      "text/plain": [
       "         CharCount    wordCount    NumOfHash\n",
       "count  7613.000000  7613.000000  7613.000000\n",
       "mean    101.037436    14.903586     0.446999\n",
       "std      33.781325     5.732604     1.099841\n",
       "min       7.000000     1.000000     0.000000\n",
       "25%      78.000000    11.000000     0.000000\n",
       "50%     107.000000    15.000000     0.000000\n",
       "75%     133.000000    19.000000     0.000000\n",
       "max     157.000000    31.000000    13.000000"
      ]
     },
     "execution_count": 9,
     "metadata": {},
     "output_type": "execute_result"
    }
   ],
   "source": [
    "trainData[['CharCount', 'wordCount', 'NumOfHash']].describe()"
   ]
  },
  {
   "cell_type": "code",
   "execution_count": 10,
   "id": "97c5b5a1-e630-41a9-8711-52cc1038dc07",
   "metadata": {},
   "outputs": [
    {
     "data": {
      "text/plain": [
       "<Axes: >"
      ]
     },
     "execution_count": 10,
     "metadata": {},
     "output_type": "execute_result"
    },
    {
     "data": {
      "image/png": "[encoded data removed]",
      "text/plain": [
       "<Figure size 640x480 with 2 Axes>"
      ]
     },
     "metadata": {},
     "output_type": "display_data"
    }
   ],
   "source": [
    "sns.heatmap(trainData[['CharCount', 'wordCount', 'NumOfHash', 'target']].corr(), annot=True)"
   ]
  },
  {
   "cell_type": "markdown",
   "id": "6d26bfcb-01fb-4ede-b9d1-53797079590e",
   "metadata": {},
   "source": [
    "There doesn't appear to be a correlation between the number of hashes, the number of words, or the number of characters to the target value."
   ]
  },
  {
   "cell_type": "code",
   "execution_count": 11,
   "id": "85599e81-658f-439c-8059-2e1f8a7aec77",
   "metadata": {},
   "outputs": [],
   "source": [
    "import re\n",
    "def removeWebpages(text, replace = True):\n",
    "    url_pattern = r'https?://\\S+|www\\.\\S+'\n",
    "    # Replace the URLs with an empty string (may change to replace with a specific token since links may be important)\n",
    "    replacement = 'LINK' if replace else ''\n",
    "    cleaned_sentence = re.sub(url_pattern, replacement, text)\n",
    "    # Strip extra spaces left after removing the link\n",
    "    return cleaned_sentence.strip()\n",
    "\n",
    "def removeTags(text, replace = True):\n",
    "    tag_pattern = r'@\\w+'\n",
    "    replacement = 'TAG' if replace else ''\n",
    "    return re.sub(tag_pattern, replacement, text).strip()\n",
    "\n",
    "def removeEmojis(text, replace = True):\n",
    "    emoji_pattern = r'[\\U0001F600-\\U0001F64F'  # Emoticons\n",
    "    emoji_pattern += r'\\U0001F300-\\U0001F5FF'  # Symbols & Pictographs\n",
    "    emoji_pattern += r'\\U0001F680-\\U0001F6FF'  # Transport & Map Symbols\n",
    "    emoji_pattern += r'\\U0001F1E0-\\U0001F1FF'  # Flags (iOS)\n",
    "    emoji_pattern += r'\\U00002700-\\U000027BF'  # Dingbats\n",
    "    emoji_pattern += r'\\U000024C2-\\U0001F251'  # Enclosed Characters\n",
    "    emoji_pattern += r']'\n",
    "    replacement = 'EMOJI' if replace else ''\n",
    "    return re.sub(emoji_pattern, replacement, text).strip()\n",
    "    \n",
    "# functions obtained with assistance from chatgpt\n",
    "\n",
    "trainData['noWeb'] = trainData['text'].apply(removeWebpages)"
   ]
  },
  {
   "cell_type": "code",
   "execution_count": 12,
   "id": "dcdc6a24-02bb-4d42-ac73-cc51c1b00b09",
   "metadata": {},
   "outputs": [
    {
     "data": {
      "text/html": [
       "<div>\n",
       "<style scoped>\n",
       "    .dataframe tbody tr th:only-of-type {\n",
       "        vertical-align: middle;\n",
       "    }\n",
       "\n",
       "    .dataframe tbody tr th {\n",
       "        vertical-align: top;\n",
       "    }\n",
       "\n",
       "    .dataframe thead th {\n",
       "        text-align: right;\n",
       "    }\n",
       "</style>\n",
       "<table border=\"1\" class=\"dataframe\">\n",
       "  <thead>\n",
       "    <tr style=\"text-align: right;\">\n",
       "      <th></th>\n",
       "      <th>word</th>\n",
       "      <th>count</th>\n",
       "    </tr>\n",
       "  </thead>\n",
       "  <tbody>\n",
       "    <tr>\n",
       "      <th>0</th>\n",
       "      <td>link</td>\n",
       "      <td>4741</td>\n",
       "    </tr>\n",
       "    <tr>\n",
       "      <th>1</th>\n",
       "      <td>the</td>\n",
       "      <td>3239</td>\n",
       "    </tr>\n",
       "    <tr>\n",
       "      <th>2</th>\n",
       "      <td>a</td>\n",
       "      <td>2195</td>\n",
       "    </tr>\n",
       "    <tr>\n",
       "      <th>3</th>\n",
       "      <td>in</td>\n",
       "      <td>1983</td>\n",
       "    </tr>\n",
       "    <tr>\n",
       "      <th>4</th>\n",
       "      <td>to</td>\n",
       "      <td>1948</td>\n",
       "    </tr>\n",
       "  </tbody>\n",
       "</table>\n",
       "</div>"
      ],
      "text/plain": [
       "   word  count\n",
       "0  link   4741\n",
       "1   the   3239\n",
       "2     a   2195\n",
       "3    in   1983\n",
       "4    to   1948"
      ]
     },
     "metadata": {},
     "output_type": "display_data"
    }
   ],
   "source": [
    "def getWordFrequency(dataFrame, column: str):\n",
    "    tokenizer = tf.keras.preprocessing.text.Tokenizer()\n",
    "    tokenizer.fit_on_texts(dataFrame[column])\n",
    "    sortedWordCounts = sorted(tokenizer.word_counts.items(), key=lambda x: x[1], reverse=True)\n",
    "    sortedWordDataFrame = pd.DataFrame.from_dict(sortedWordCounts)\n",
    "    sortedWordDataFrame.rename(columns={0: 'word', 1:'count'}, inplace=True)\n",
    "    return sortedWordDataFrame\n",
    "\n",
    "wordCountDF = getWordFrequency(trainData, 'noWeb')\n",
    "display(wordCountDF.head(5))\n",
    "#print(sortedWordCounts[:10])"
   ]
  },
  {
   "cell_type": "code",
   "execution_count": 13,
   "id": "8f0c60a7-a966-4b26-807b-f66f24bace0e",
   "metadata": {},
   "outputs": [
    {
     "data": {
      "text/plain": [
       "<Axes: xlabel='word', ylabel='count'>"
      ]
     },
     "execution_count": 13,
     "metadata": {},
     "output_type": "execute_result"
    },
    {
     "data": {
      "image/png": "[encoded data removed]",
      "text/plain": [
       "<Figure size 640x480 with 1 Axes>"
      ]
     },
     "metadata": {},
     "output_type": "display_data"
    }
   ],
   "source": [
    "sns.barplot(x = wordCountDF['word'].iloc[:20], y = wordCountDF['count'].iloc[:20])"
   ]
  },
  {
   "cell_type": "code",
   "execution_count": 14,
   "id": "e6d046ab-cece-4382-a079-f8b7d904f528",
   "metadata": {},
   "outputs": [
    {
     "name": "stderr",
     "output_type": "stream",
     "text": [
      "[nltk_data] Downloading package stopwords to /root/nltk_data...\n",
      "[nltk_data]   Package stopwords is already up-to-date!\n"
     ]
    },
    {
     "data": {
      "text/plain": [
       "True"
      ]
     },
     "execution_count": 14,
     "metadata": {},
     "output_type": "execute_result"
    }
   ],
   "source": [
    "import nltk\n",
    "nltk.download('stopwords')"
   ]
  },
  {
   "cell_type": "code",
   "execution_count": 15,
   "id": "4a85a335-e5de-4a68-8d46-e12012d05c92",
   "metadata": {},
   "outputs": [
    {
     "data": {
      "text/html": [
       "<div>\n",
       "<style scoped>\n",
       "    .dataframe tbody tr th:only-of-type {\n",
       "        vertical-align: middle;\n",
       "    }\n",
       "\n",
       "    .dataframe tbody tr th {\n",
       "        vertical-align: top;\n",
       "    }\n",
       "\n",
       "    .dataframe thead th {\n",
       "        text-align: right;\n",
       "    }\n",
       "</style>\n",
       "<table border=\"1\" class=\"dataframe\">\n",
       "  <thead>\n",
       "    <tr style=\"text-align: right;\">\n",
       "      <th></th>\n",
       "      <th>word</th>\n",
       "      <th>count</th>\n",
       "    </tr>\n",
       "  </thead>\n",
       "  <tbody>\n",
       "    <tr>\n",
       "      <th>0</th>\n",
       "      <td>link</td>\n",
       "      <td>4741</td>\n",
       "    </tr>\n",
       "    <tr>\n",
       "      <th>1</th>\n",
       "      <td>like</td>\n",
       "      <td>348</td>\n",
       "    </tr>\n",
       "    <tr>\n",
       "      <th>2</th>\n",
       "      <td>amp</td>\n",
       "      <td>344</td>\n",
       "    </tr>\n",
       "    <tr>\n",
       "      <th>3</th>\n",
       "      <td>fire</td>\n",
       "      <td>245</td>\n",
       "    </tr>\n",
       "    <tr>\n",
       "      <th>4</th>\n",
       "      <td>i'm</td>\n",
       "      <td>240</td>\n",
       "    </tr>\n",
       "  </tbody>\n",
       "</table>\n",
       "</div>"
      ],
      "text/plain": [
       "   word  count\n",
       "0  link   4741\n",
       "1  like    348\n",
       "2   amp    344\n",
       "3  fire    245\n",
       "4   i'm    240"
      ]
     },
     "metadata": {},
     "output_type": "display_data"
    }
   ],
   "source": [
    "from nltk.corpus import stopwords\n",
    "def removeStopWords(text):\n",
    "    text = text.lower()\n",
    "    # text = re.sub('[^a-z A-Z 0-9-]+', '', text)\n",
    "    text = \" \".join([word for word in text.split() if word not in stopwords.words('english')])\n",
    "    return text\n",
    "\n",
    "trainData['noStopNoWeb'] = trainData['noWeb'].apply(removeStopWords)\n",
    "wordCountDF = getWordFrequency(trainData, 'noStopNoWeb')\n",
    "display(wordCountDF.head(5))\n"
   ]
  },
  {
   "cell_type": "code",
   "execution_count": 16,
   "id": "d8b03daa-8b36-4a55-8c32-ee9de4e8001a",
   "metadata": {},
   "outputs": [
    {
     "data": {
      "text/plain": [
       "<Axes: xlabel='word', ylabel='count'>"
      ]
     },
     "execution_count": 16,
     "metadata": {},
     "output_type": "execute_result"
    },
    {
     "data": {
      "image/png": "[encoded data removed]",
      "text/plain": [
       "<Figure size 640x480 with 1 Axes>"
      ]
     },
     "metadata": {},
     "output_type": "display_data"
    }
   ],
   "source": [
    "sns.barplot(x = wordCountDF['word'].iloc[:10], y = wordCountDF['count'].iloc[:10])"
   ]
  },
  {
   "cell_type": "markdown",
   "id": "bb371d2f-8216-4142-89ce-692fdd1be4c7",
   "metadata": {},
   "source": [
    "We are going to repeat one of the processes performed above but remove the links and Stopwords to see if there is now a correlation"
   ]
  },
  {
   "cell_type": "code",
   "execution_count": 17,
   "id": "94f79b32-079e-4e6e-abb4-8dcc1dc24d06",
   "metadata": {},
   "outputs": [],
   "source": [
    "trainDataFiltered = pd.read_csv('Data/train.csv')"
   ]
  },
  {
   "cell_type": "code",
   "execution_count": 18,
   "id": "f72548b7-6eeb-4940-9e3d-a9e0ca798c1f",
   "metadata": {},
   "outputs": [
    {
     "data": {
      "text/plain": [
       "0        deeds reason #earthquake may allah forgive us\n",
       "1               forest fire near la ronge sask. canada\n",
       "2    residents asked 'shelter place' notified offic...\n",
       "3    13,000 people receive #wildfires evacuation or...\n",
       "4    got sent photo ruby #alaska smoke #wildfires p...\n",
       "Name: text, dtype: object"
      ]
     },
     "metadata": {},
     "output_type": "display_data"
    }
   ],
   "source": [
    "trainDataFiltered['text'] = trainDataFiltered['text'].apply(removeStopWords)\n",
    "trainDataFiltered['text'] = trainDataFiltered['text'].apply(removeWebpages, args=(False,))\n",
    "trainDataFiltered['text'] = trainDataFiltered['text'].apply(removeTags, args=(False,))\n",
    "trainDataFiltered['text'] = trainDataFiltered['text'].apply(removeEmojis, args=(False,))\n",
    "display(trainDataFiltered['text'].head(5))"
   ]
  },
  {
   "cell_type": "code",
   "execution_count": 19,
   "id": "c9791cdd-b2b2-4890-85bf-e9423285d35b",
   "metadata": {},
   "outputs": [
    {
     "data": {
      "text/html": [
       "<div>\n",
       "<style scoped>\n",
       "    .dataframe tbody tr th:only-of-type {\n",
       "        vertical-align: middle;\n",
       "    }\n",
       "\n",
       "    .dataframe tbody tr th {\n",
       "        vertical-align: top;\n",
       "    }\n",
       "\n",
       "    .dataframe thead th {\n",
       "        text-align: right;\n",
       "    }\n",
       "</style>\n",
       "<table border=\"1\" class=\"dataframe\">\n",
       "  <thead>\n",
       "    <tr style=\"text-align: right;\">\n",
       "      <th></th>\n",
       "      <th>CharCount</th>\n",
       "      <th>wordCount</th>\n",
       "    </tr>\n",
       "  </thead>\n",
       "  <tbody>\n",
       "    <tr>\n",
       "      <th>count</th>\n",
       "      <td>7613.000000</td>\n",
       "      <td>7613.000000</td>\n",
       "    </tr>\n",
       "    <tr>\n",
       "      <th>mean</th>\n",
       "      <td>65.392092</td>\n",
       "      <td>9.429266</td>\n",
       "    </tr>\n",
       "    <tr>\n",
       "      <th>std</th>\n",
       "      <td>26.587714</td>\n",
       "      <td>3.808321</td>\n",
       "    </tr>\n",
       "    <tr>\n",
       "      <th>min</th>\n",
       "      <td>0.000000</td>\n",
       "      <td>0.000000</td>\n",
       "    </tr>\n",
       "    <tr>\n",
       "      <th>25%</th>\n",
       "      <td>46.000000</td>\n",
       "      <td>7.000000</td>\n",
       "    </tr>\n",
       "    <tr>\n",
       "      <th>50%</th>\n",
       "      <td>66.000000</td>\n",
       "      <td>9.000000</td>\n",
       "    </tr>\n",
       "    <tr>\n",
       "      <th>75%</th>\n",
       "      <td>86.000000</td>\n",
       "      <td>12.000000</td>\n",
       "    </tr>\n",
       "    <tr>\n",
       "      <th>max</th>\n",
       "      <td>138.000000</td>\n",
       "      <td>27.000000</td>\n",
       "    </tr>\n",
       "  </tbody>\n",
       "</table>\n",
       "</div>"
      ],
      "text/plain": [
       "         CharCount    wordCount\n",
       "count  7613.000000  7613.000000\n",
       "mean     65.392092     9.429266\n",
       "std      26.587714     3.808321\n",
       "min       0.000000     0.000000\n",
       "25%      46.000000     7.000000\n",
       "50%      66.000000     9.000000\n",
       "75%      86.000000    12.000000\n",
       "max     138.000000    27.000000"
      ]
     },
     "execution_count": 19,
     "metadata": {},
     "output_type": "execute_result"
    }
   ],
   "source": [
    "trainDataFiltered['CharCount'] = trainDataFiltered['text'].str.len()\n",
    "trainDataFiltered['wordCount'] = trainDataFiltered['text'].apply(getWordCount)\n",
    "trainDataFiltered[['CharCount', 'wordCount']].describe()\n"
   ]
  },
  {
   "cell_type": "code",
   "execution_count": 20,
   "id": "ec88e8f4-cced-4264-b640-7a5ba01ace4b",
   "metadata": {},
   "outputs": [
    {
     "data": {
      "text/plain": [
       "<Axes: >"
      ]
     },
     "execution_count": 20,
     "metadata": {},
     "output_type": "execute_result"
    },
    {
     "data": {
      "image/png": "[encoded data removed]",
      "text/plain": [
       "<Figure size 640x480 with 2 Axes>"
      ]
     },
     "metadata": {},
     "output_type": "display_data"
    }
   ],
   "source": [
    "sns.heatmap(trainDataFiltered[['CharCount', 'wordCount', 'target']].corr(), annot=True)"
   ]
  },
  {
   "cell_type": "markdown",
   "id": "40d58bd9-7cc1-4324-969d-6c8b7b0e1b40",
   "metadata": {},
   "source": [
    "We can see an increase in the correlation between character count and our target (however it is still not strong)"
   ]
  },
  {
   "cell_type": "code",
   "execution_count": 21,
   "id": "7a6c40ba-68b4-4f64-87ec-fb271cfbbba3",
   "metadata": {},
   "outputs": [
    {
     "name": "stdout",
     "output_type": "stream",
     "text": [
      "number of unique words: 15828\n"
     ]
    },
    {
     "data": {
      "image/png": "[encoded data removed]",
      "text/plain": [
       "<Figure size 640x480 with 1 Axes>"
      ]
     },
     "metadata": {},
     "output_type": "display_data"
    }
   ],
   "source": [
    "wordCountDF = getWordFrequency(trainDataFiltered, 'text')\n",
    "sns.barplot(x = wordCountDF['word'].iloc[:10], y = wordCountDF['count'].iloc[:10])\n",
    "print(\"number of unique words: {}\".format(wordCountDF.shape[0]))"
   ]
  },
  {
   "cell_type": "markdown",
   "id": "117ff546-147a-46c5-b3ce-3838221ff73d",
   "metadata": {},
   "source": [
    "As we can see, there are a lot of links and tags in our data and we may need to remove these in the future."
   ]
  },
  {
   "cell_type": "markdown",
   "id": "f5bbca9d-1dd9-463d-9bdd-642d5e8e41f3",
   "metadata": {},
   "source": [
    "### Create a train and validation split for the data"
   ]
  },
  {
   "cell_type": "code",
   "execution_count": 22,
   "id": "a748bdb1-e883-4ae7-9897-9364c29311ec",
   "metadata": {},
   "outputs": [],
   "source": [
    "from sklearn.model_selection import train_test_split\n",
    "x_train, x_val, y_train, y_val = train_test_split(trainDataFiltered['text'], trainDataFiltered['target'], test_size=.2, random_state=42)"
   ]
  },
  {
   "cell_type": "code",
   "execution_count": 23,
   "id": "d9d51e5e-5077-4564-b321-407188193183",
   "metadata": {},
   "outputs": [],
   "source": [
    "from sklearn.model_selection import train_test_split\n",
    "train, val = train_test_split(trainDataFiltered[['text', 'target']], test_size=.2, random_state=42)"
   ]
  },
  {
   "cell_type": "code",
   "execution_count": 24,
   "id": "1bb79a26-2be7-449b-b1eb-05e743d43826",
   "metadata": {},
   "outputs": [
    {
     "data": {
      "text/plain": [
       "4996    courageous honest analysis need use atomic bom...\n",
       "3263    wld b shame golf cart became engulfed flames. ...\n",
       "4907    tell  rescind medals 'honor' given us soldiers...\n",
       "2855    worried ca drought might affect you? extreme w...\n",
       "4716            lava blast &amp; power red #pantherattack\n",
       "Name: text, dtype: object"
      ]
     },
     "metadata": {},
     "output_type": "display_data"
    }
   ],
   "source": [
    "display(x_train.head(5))"
   ]
  },
  {
   "cell_type": "markdown",
   "id": "c7175f32-0d46-4446-b801-5bf661f0cc11",
   "metadata": {},
   "source": [
    "# Model Creation\n",
    "\n"
   ]
  },
  {
   "cell_type": "markdown",
   "id": "5e3096d5-21fd-4731-a4f4-1f3f051b3457",
   "metadata": {},
   "source": [
    "## BERT LLM\n",
    "First lets create a model from the LLM BERT. We will be using the tokenizer associated with it and the outcome will be our baseline score for our simpler models built from scratch.\n",
    "\n",
    "Most of this proccess was found through hugging-face tutorials/ guides."
   ]
  },
  {
   "cell_type": "markdown",
   "id": "b24aba7c-598b-469d-8bdb-d4b52eb49b79",
   "metadata": {},
   "source": [
    "1. First lets load in the tokenizer for the bert model"
   ]
  },
  {
   "cell_type": "code",
   "execution_count": 25,
   "id": "e1ce5e4d-4fa0-4668-ad60-85a891dd92ff",
   "metadata": {},
   "outputs": [],
   "source": [
    "from transformers import AutoTokenizer\n",
    "BertTokenizer = AutoTokenizer.from_pretrained(\"distilbert/distilbert-base-uncased\")"
   ]
  },
  {
   "cell_type": "markdown",
   "id": "565a102f-b818-490a-8d71-0d5073481511",
   "metadata": {},
   "source": [
    "2. Next we need a function to map the text to an output of input_ids and attention masking"
   ]
  },
  {
   "cell_type": "code",
   "execution_count": 26,
   "id": "fe60dd4c-1ee6-4eb6-b830-a64e2d6ba97c",
   "metadata": {},
   "outputs": [],
   "source": [
    "def preprocess_function(examples):\n",
    "    return BertTokenizer(examples[\"text\"], truncation=True)\n"
   ]
  },
  {
   "cell_type": "markdown",
   "id": "42fea3cf-7d44-4bcd-9b96-4bd30c7051f1",
   "metadata": {},
   "source": [
    "3. Next we will reload the data as a dataset object, use our map function, and rename the target column to label (This is because the model searches for \"Label\" to use as its y value)"
   ]
  },
  {
   "cell_type": "code",
   "execution_count": 27,
   "id": "b542cb99-ec0e-4062-b6b7-79e911eb51f6",
   "metadata": {},
   "outputs": [
    {
     "data": {
      "application/vnd.jupyter.widget-view+json": {
       "model_id": "5751943429a54314a33ce2790abdad49",
       "version_major": 2,
       "version_minor": 0
      },
      "text/plain": [
       "Map:   0%|          | 0/6090 [00:00<?, ? examples/s]"
      ]
     },
     "metadata": {},
     "output_type": "display_data"
    },
    {
     "data": {
      "application/vnd.jupyter.widget-view+json": {
       "model_id": "685edff6190c4cdf94524529ce7ccc5a",
       "version_major": 2,
       "version_minor": 0
      },
      "text/plain": [
       "Map:   0%|          | 0/1523 [00:00<?, ? examples/s]"
      ]
     },
     "metadata": {},
     "output_type": "display_data"
    }
   ],
   "source": [
    "import datasets\n",
    "train = datasets.Dataset.from_pandas(train)\n",
    "val = datasets.Dataset.from_pandas(val)\n",
    "tokenizedTrain = train.map(preprocess_function, batched=True)\n",
    "tokenizedVal = val.map(preprocess_function, batched=True)\n",
    "tokenizedTrain = tokenizedTrain.rename_column(\"target\", \"label\")\n",
    "tokenizedVal = tokenizedVal.rename_column(\"target\", \"label\")"
   ]
  },
  {
   "cell_type": "code",
   "execution_count": 28,
   "id": "d73cd212-f089-4ac8-915c-6a303344c632",
   "metadata": {},
   "outputs": [
    {
     "data": {
      "text/plain": [
       "['text', 'label', '__index_level_0__', 'input_ids', 'attention_mask']"
      ]
     },
     "execution_count": 28,
     "metadata": {},
     "output_type": "execute_result"
    }
   ],
   "source": [
    "tokenizedTrain.column_names"
   ]
  },
  {
   "cell_type": "markdown",
   "id": "4cc66008-6fe4-4249-b4b0-9ffac7f1b70e",
   "metadata": {},
   "source": [
    "From hugging-face documentation: \n",
    "\n",
    "Data collators are objects that will form a batch by using a list of dataset elements as input. These elements are of the same type as the elements of train_dataset or eval_dataset."
   ]
  },
  {
   "cell_type": "code",
   "execution_count": 29,
   "id": "fb7c72e2-1485-4072-8d35-a177ca9239c7",
   "metadata": {},
   "outputs": [],
   "source": [
    "from transformers import DataCollatorWithPadding\n",
    "\n",
    "data_collator = DataCollatorWithPadding(tokenizer=BertTokenizer, return_tensors=\"tf\")"
   ]
  },
  {
   "cell_type": "markdown",
   "id": "e3cce7c1-82c5-4215-b1e3-530ed3766a53",
   "metadata": {},
   "source": [
    "The function bellow can be used to create our own metrics, however since it is binary class classification we will not need one from scratch."
   ]
  },
  {
   "cell_type": "code",
   "execution_count": 30,
   "id": "15471e7e-db6c-47f6-9a41-37635fa481c2",
   "metadata": {},
   "outputs": [],
   "source": [
    "import evaluate\n",
    "\n",
    "accuracy = evaluate.load(\"accuracy\")\n",
    "\n",
    "def compute_metrics(eval_pred):\n",
    "    predictions, labels = eval_pred\n",
    "    predictions = np.argmax(predictions, axis=1)\n",
    "    return accuracy.compute(predictions=predictions, references=labels)"
   ]
  },
  {
   "cell_type": "markdown",
   "id": "db1c2c97-877c-433f-9528-ad5727a63db8",
   "metadata": {},
   "source": [
    "Next we will create 2 dictionary objects, One to convert the label text and the other to go back"
   ]
  },
  {
   "cell_type": "code",
   "execution_count": 31,
   "id": "0ac1ddce-fb71-45e8-983d-0af063d19a01",
   "metadata": {},
   "outputs": [],
   "source": [
    "id2label = {0: \"NEGATIVE\", 1: \"POSITIVE\"}\n",
    "label2id = {\"NEGATIVE\": 0, \"POSITIVE\": 1}"
   ]
  },
  {
   "cell_type": "markdown",
   "id": "a7e4c844-a61b-4d25-8f25-726d5ad3f427",
   "metadata": {},
   "source": [
    "Like our tensorflow models, we will need an optimizer. We will create it using the transformers \"create_optimizer\" function. \n",
    "\n",
    "https://huggingface.co/docs/transformers/en/main_classes/optimizer_schedules"
   ]
  },
  {
   "cell_type": "code",
   "execution_count": 32,
   "id": "23d8057d-7257-4977-914a-79ab83ad1160",
   "metadata": {},
   "outputs": [],
   "source": [
    "from transformers import create_optimizer\n",
    "# import tensorflow as tf\n",
    "\n",
    "batch_size = 16\n",
    "num_epochs = 5\n",
    "batches_per_epoch = len(train) // batch_size\n",
    "total_train_steps = int(batches_per_epoch * num_epochs)\n",
    "optimizer, schedule = create_optimizer(init_lr=2e-5, num_warmup_steps=0, num_train_steps=total_train_steps)"
   ]
  },
  {
   "cell_type": "markdown",
   "id": "00803c95-d657-40e0-a97b-ae52b7d1d978",
   "metadata": {},
   "source": [
    "Finally, we can load in our bert model for classification"
   ]
  },
  {
   "cell_type": "code",
   "execution_count": 33,
   "id": "fda5b58e-33f2-4012-ae46-149c2df7c32f",
   "metadata": {},
   "outputs": [
    {
     "name": "stderr",
     "output_type": "stream",
     "text": [
      "Some weights of the PyTorch model were not used when initializing the TF 2.0 model TFDistilBertForSequenceClassification: ['vocab_transform.bias', 'vocab_transform.weight', 'vocab_projector.bias', 'vocab_layer_norm.weight', 'vocab_layer_norm.bias']\n",
      "- This IS expected if you are initializing TFDistilBertForSequenceClassification from a PyTorch model trained on another task or with another architecture (e.g. initializing a TFBertForSequenceClassification model from a BertForPreTraining model).\n",
      "- This IS NOT expected if you are initializing TFDistilBertForSequenceClassification from a PyTorch model that you expect to be exactly identical (e.g. initializing a TFBertForSequenceClassification model from a BertForSequenceClassification model).\n",
      "Some weights or buffers of the TF 2.0 model TFDistilBertForSequenceClassification were not initialized from the PyTorch model and are newly initialized: ['pre_classifier.weight', 'pre_classifier.bias', 'classifier.weight', 'classifier.bias']\n",
      "You should probably TRAIN this model on a down-stream task to be able to use it for predictions and inference.\n"
     ]
    }
   ],
   "source": [
    "from transformers import TFAutoModelForSequenceClassification\n",
    "\n",
    "BertModel = TFAutoModelForSequenceClassification.from_pretrained(\n",
    "    \"distilbert/distilbert-base-uncased\", num_labels=2, id2label=id2label, label2id=label2id\n",
    ")"
   ]
  },
  {
   "cell_type": "markdown",
   "id": "13e1297e-78ea-4966-be8a-a6cf3bfb2665",
   "metadata": {},
   "source": [
    "We have to prepare our data as a tf dataset in order to pass it as input to our model."
   ]
  },
  {
   "cell_type": "code",
   "execution_count": 34,
   "id": "a06764f7-3b69-4902-a085-dee1bd7637ba",
   "metadata": {},
   "outputs": [],
   "source": [
    "tf_train_set = BertModel.prepare_tf_dataset(\n",
    "    tokenizedTrain,\n",
    "    shuffle=True,\n",
    "    batch_size=16,\n",
    "    collate_fn=data_collator,\n",
    ")"
   ]
  },
  {
   "cell_type": "markdown",
   "id": "74529d75-6eab-4ab4-aa8c-1e3c556c2991",
   "metadata": {},
   "source": [
    "prepare_tf_dataset: https://huggingface.co/docs/transformers/v4.46.3/en/main_classes/model#transformers.TFPreTrainedModel.prepare_tf_dataset\n",
    "\n",
    "to_tf_dataset: https://huggingface.co/docs/datasets/v3.1.0/en/package_reference/main_classes#datasets.Dataset.to_tf_dataset"
   ]
  },
  {
   "cell_type": "code",
   "execution_count": 35,
   "id": "348c9890-b776-47ff-b72e-854208f457cf",
   "metadata": {},
   "outputs": [],
   "source": [
    "tf_validation_set = BertModel.prepare_tf_dataset(\n",
    "    tokenizedVal,\n",
    "    shuffle=False,\n",
    "    batch_size=16,\n",
    "    collate_fn=data_collator,\n",
    ")"
   ]
  },
  {
   "cell_type": "code",
   "execution_count": 36,
   "id": "5ba29cc4-6202-482c-90f4-48e1146b1d61",
   "metadata": {},
   "outputs": [],
   "source": [
    "from tensorflow.keras.metrics import Accuracy\n",
    "BertModel.compile(optimizer=optimizer, metrics=['accuracy'])"
   ]
  },
  {
   "cell_type": "code",
   "execution_count": 37,
   "id": "f7592133-268c-4b5f-af59-f9876525bf09",
   "metadata": {},
   "outputs": [
    {
     "name": "stdout",
     "output_type": "stream",
     "text": [
      "Epoch 1/20\n"
     ]
    },
    {
     "name": "stderr",
     "output_type": "stream",
     "text": [
      "2024-12-06 23:24:38.531647: I external/local_xla/xla/service/service.cc:168] XLA service 0x7f21b8b754f0 initialized for platform CUDA (this does not guarantee that XLA will be used). Devices:\n",
      "2024-12-06 23:24:38.531680: I external/local_xla/xla/service/service.cc:176]   StreamExecutor device (0): NVIDIA GeForce RTX 3080, Compute Capability 8.6\n",
      "2024-12-06 23:24:38.541706: I tensorflow/compiler/mlir/tensorflow/utils/dump_mlir_util.cc:269] disabling MLIR crash reproducer, set env var `MLIR_CRASH_REPRODUCER_DIRECTORY` to enable.\n",
      "2024-12-06 23:24:38.565975: I external/local_xla/xla/stream_executor/cuda/cuda_dnn.cc:454] Loaded cuDNN version 8906\n",
      "WARNING: All log messages before absl::InitializeLog() is called are written to STDERR\n",
      "I0000 00:00:1733527478.612600     158 device_compiler.h:186] Compiled cluster using XLA!  This line is logged at most once for the lifetime of the process.\n"
     ]
    },
    {
     "name": "stdout",
     "output_type": "stream",
     "text": [
      "380/380 [==============================] - 36s 61ms/step - loss: 0.4537 - accuracy: 0.7992 - val_loss: 0.3985 - val_accuracy: 0.8372\n",
      "Epoch 2/20\n",
      "380/380 [==============================] - 19s 49ms/step - loss: 0.3328 - accuracy: 0.8643 - val_loss: 0.4172 - val_accuracy: 0.8273\n",
      "Epoch 3/20\n",
      "380/380 [==============================] - 17s 45ms/step - loss: 0.2394 - accuracy: 0.9115 - val_loss: 0.4787 - val_accuracy: 0.8155\n",
      "Epoch 4/20\n",
      "380/380 [==============================] - 18s 47ms/step - loss: 0.1755 - accuracy: 0.9398 - val_loss: 0.5249 - val_accuracy: 0.8162\n",
      "Epoch 5/20\n",
      "380/380 [==============================] - 19s 49ms/step - loss: 0.1330 - accuracy: 0.9579 - val_loss: 0.5829 - val_accuracy: 0.8135\n",
      "Epoch 6/20\n",
      "380/380 [==============================] - 18s 47ms/step - loss: 0.1173 - accuracy: 0.9609 - val_loss: 0.5829 - val_accuracy: 0.8135\n",
      "Epoch 7/20\n",
      "380/380 [==============================] - 18s 46ms/step - loss: 0.1197 - accuracy: 0.9604 - val_loss: 0.5829 - val_accuracy: 0.8135\n"
     ]
    },
    {
     "data": {
      "text/plain": [
       "<keras.src.callbacks.History at 0x7f210824bd90>"
      ]
     },
     "execution_count": 37,
     "metadata": {},
     "output_type": "execute_result"
    }
   ],
   "source": [
    "early_stopping = tf.keras.callbacks.EarlyStopping(\n",
    "    monitor = 'val_accuracy',\n",
    "    patience=5,\n",
    "    restore_best_weights=True,\n",
    "    start_from_epoch=1\n",
    ")\n",
    "BertModel.fit(x=tf_train_set, validation_data=tf_validation_set, epochs=20, callbacks=[early_stopping])"
   ]
  },
  {
   "cell_type": "markdown",
   "id": "6a56f4fa-e11c-4587-84a7-238ea301213d",
   "metadata": {},
   "source": [
    "# Testing building model from scratch"
   ]
  },
  {
   "cell_type": "markdown",
   "id": "2d2a99dd-ba02-4976-9477-15279c8c88af",
   "metadata": {},
   "source": [
    "First we need to create a way to convert the words into an actual value that the model can read. The easiest way to do this is using tokenizers to convert each word into a numeric value and pad the sequences to a given length."
   ]
  },
  {
   "cell_type": "code",
   "execution_count": 38,
   "id": "8f73a6c7-d6bf-4beb-8921-da12fab249b7",
   "metadata": {},
   "outputs": [],
   "source": [
    "VOCAB_SIZE = 7500\n",
    "\n",
    "from tensorflow.keras.preprocessing.text import Tokenizer\n",
    "tokenizer = Tokenizer(num_words=7500, oov_token=\"<UNK>\")\n",
    "tokenizer.fit_on_texts(trainDataFiltered['text'])"
   ]
  },
  {
   "cell_type": "code",
   "execution_count": 39,
   "id": "24961013-e7b4-40b0-aa20-b4e2ebf2b1ff",
   "metadata": {},
   "outputs": [],
   "source": [
    "trainSequence = tokenizer.texts_to_sequences(x_train)\n",
    "validateSequence = tokenizer.texts_to_sequences(x_val)"
   ]
  },
  {
   "cell_type": "code",
   "execution_count": 40,
   "id": "e49f1308-93f9-4325-a4d0-7aa19487bd6d",
   "metadata": {},
   "outputs": [],
   "source": [
    "from tensorflow.keras.preprocessing.sequence import pad_sequences\n",
    "trainSequence = pad_sequences(trainSequence, maxlen=30, padding='post')\n",
    "validateSequence = pad_sequences(validateSequence, maxlen = 30, padding='post')"
   ]
  },
  {
   "cell_type": "markdown",
   "id": "c6935db2-f748-410e-921f-bf0195fc52ee",
   "metadata": {},
   "source": [
    "Load in GloVe for the embedding matrix\n",
    "\n",
    "GloVe embeddings use the idea of the probability of a word showing given another word showed up p(f|x). "
   ]
  },
  {
   "cell_type": "code",
   "execution_count": 41,
   "id": "127e3499-2ff3-42f1-bd75-1959e79f53f3",
   "metadata": {},
   "outputs": [],
   "source": [
    "import gensim.downloader as api\n",
    "# load in GloVe for embeddings\n",
    "glove_model = api.load(\"glove-wiki-gigaword-300\")  # GloVe embeddings with 300 dimensions\n",
    "\n",
    "Glove_embedding_dim = glove_model.vector_size\n",
    "word_index = tokenizer.word_index\n",
    "num_words = min(VOCAB_SIZE, len(word_index) + 1)\n",
    "Glove_embedding_matrix = np.zeros((num_words, Glove_embedding_dim))\n",
    "\n",
    "for word, i in word_index.items():\n",
    "    if i < VOCAB_SIZE:\n",
    "        embedding_vector = glove_model[word] if word in glove_model else None\n",
    "        if embedding_vector is not None:\n",
    "            Glove_embedding_matrix[i] = embedding_vector\n",
    "        else:\n",
    "            Glove_embedding_matrix[i] = np.random.normal(size=(Glove_embedding_dim,))"
   ]
  },
  {
   "cell_type": "markdown",
   "id": "f1f8df6e-10b5-42a0-b901-fd2d13318d8c",
   "metadata": {},
   "source": [
    "Load in Word2Vec for the embedding matrix\n",
    "\n",
    "Word2Vec is an embedding space where we vectorize each word into n-dimensions, where each dimension can have a different meaning such as good or bad, big or small, etc depending on the direction that you move. You can then reach a word in this space by adding or subtracting words together. An example of this would be \"knight\" + \"Japan\" = \"samurai\" or similar."
   ]
  },
  {
   "cell_type": "code",
   "execution_count": 42,
   "id": "70e314b6-2060-448a-89cd-4532444509d0",
   "metadata": {
    "scrolled": true
   },
   "outputs": [],
   "source": [
    "import gensim.downloader as api\n",
    "\n",
    "word2Vec_model = api.load(\"word2vec-google-news-300\")  # GloVe embeddings with 300 dimensions\n",
    "\n",
    "Word2Vec_embedding_dim = word2Vec_model.vector_size\n",
    "word_index = tokenizer.word_index\n",
    "num_words = min(VOCAB_SIZE, len(word_index) + 1)\n",
    "Word2Vec_embedding_matrix = np.zeros((num_words, Word2Vec_embedding_dim))\n",
    "\n",
    "for word, i in word_index.items():\n",
    "    if i < VOCAB_SIZE:\n",
    "        embedding_vector = word2Vec_model[word] if word in word2Vec_model else None\n",
    "        if embedding_vector is not None:\n",
    "            Word2Vec_embedding_matrix[i] = embedding_vector\n",
    "        else:\n",
    "            Word2Vec_embedding_matrix[i] = np.random.normal(size=(Word2Vec_embedding_dim,))"
   ]
  },
  {
   "cell_type": "code",
   "execution_count": 43,
   "id": "5a73fa5e-193f-49b0-9364-eeba0dd2792e",
   "metadata": {},
   "outputs": [],
   "source": [
    "from tensorflow.keras.models import Sequential\n",
    "from tensorflow.keras.layers import Embedding, SimpleRNN, Dense, GRU, Dropout, LSTM, Bidirectional"
   ]
  },
  {
   "cell_type": "markdown",
   "id": "7f668135-2f0b-46ca-81cd-65e50bd4780c",
   "metadata": {},
   "source": [
    "First we will try a model in which we use a new embedding matrix that has not been trained on anything yet and attempting to train it on the Twitter data."
   ]
  },
  {
   "cell_type": "code",
   "execution_count": 58,
   "id": "dd79ec91-6eae-417a-b565-7eb7562bfc46",
   "metadata": {},
   "outputs": [],
   "source": [
    "SimpleEmbeddingModel = Sequential([\n",
    "    Embedding(input_dim = VOCAB_SIZE, output_dim=100),\n",
    "    SimpleRNN(64, recurrent_dropout=0.2),\n",
    "    Dense(32, activation='relu'),\n",
    "    Dropout(0.2),\n",
    "    Dense(1, activation='sigmoid')\n",
    "])\n",
    "SimpleEmbeddingModel.compile(optimizer = 'adam', loss = 'binary_crossentropy', metrics = ['accuracy'])"
   ]
  },
  {
   "cell_type": "code",
   "execution_count": 59,
   "id": "94cdd678-c45e-4561-9962-3e5e469f829e",
   "metadata": {},
   "outputs": [
    {
     "name": "stdout",
     "output_type": "stream",
     "text": [
      "Epoch 1/20\n",
      "381/381 [==============================] - 23s 55ms/step - loss: 0.6935 - accuracy: 0.5440 - val_loss: 0.6831 - val_accuracy: 0.5732\n",
      "Epoch 2/20\n",
      "381/381 [==============================] - 16s 41ms/step - loss: 0.6864 - accuracy: 0.5672 - val_loss: 0.6829 - val_accuracy: 0.5739\n",
      "Epoch 3/20\n",
      "381/381 [==============================] - 15s 40ms/step - loss: 0.6852 - accuracy: 0.5706 - val_loss: 0.6831 - val_accuracy: 0.5739\n",
      "Epoch 4/20\n",
      "381/381 [==============================] - 14s 37ms/step - loss: 0.6860 - accuracy: 0.5670 - val_loss: 0.6804 - val_accuracy: 0.5739\n",
      "Epoch 5/20\n",
      "381/381 [==============================] - 15s 39ms/step - loss: 0.6848 - accuracy: 0.5683 - val_loss: 0.6868 - val_accuracy: 0.5739\n",
      "Epoch 6/20\n",
      "381/381 [==============================] - 14s 38ms/step - loss: 0.6846 - accuracy: 0.5683 - val_loss: 0.6821 - val_accuracy: 0.5739\n",
      "Epoch 7/20\n",
      "381/381 [==============================] - 15s 40ms/step - loss: 0.6842 - accuracy: 0.5700 - val_loss: 0.6830 - val_accuracy: 0.5739\n"
     ]
    },
    {
     "data": {
      "text/plain": [
       "<keras.src.callbacks.History at 0x7f1fc9a3a190>"
      ]
     },
     "execution_count": 59,
     "metadata": {},
     "output_type": "execute_result"
    }
   ],
   "source": [
    "SimpleEmbeddingModel.fit(trainSequence, y_train, epochs=20, batch_size=16, validation_data=(validateSequence, y_val), callbacks=[early_stopping])"
   ]
  },
  {
   "cell_type": "markdown",
   "id": "590487fc-7cbc-43a0-b606-f8d24f01ac43",
   "metadata": {},
   "source": [
    "From our simple model, we can see that it can't actually learn the relationship between what tweets contain information about natural disasters and which don't. We can attempt to use different RNN cells such as gated recurrent units (GRU) in order to see if this improves the models ability to interpret the text."
   ]
  },
  {
   "cell_type": "code",
   "execution_count": 60,
   "id": "aff0a5da-8e92-4c1a-889d-4e06da21cf81",
   "metadata": {},
   "outputs": [
    {
     "name": "stdout",
     "output_type": "stream",
     "text": [
      "WARNING:tensorflow:Layer gru_4 will not use cuDNN kernels since it doesn't meet the criteria. It will use a generic GPU kernel as fallback when running on GPU.\n"
     ]
    }
   ],
   "source": [
    "SimpleEmbeddingModel2 = Sequential([\n",
    "    Embedding(input_dim = VOCAB_SIZE, output_dim=100),\n",
    "    GRU(64, recurrent_dropout=0.2),\n",
    "    Dense(32, activation='relu'),\n",
    "    Dropout(0.2),\n",
    "    Dense(1, activation='sigmoid')\n",
    "])\n",
    "SimpleEmbeddingModel2.compile(optimizer = 'adam', loss = 'binary_crossentropy', metrics = ['accuracy'])"
   ]
  },
  {
   "cell_type": "code",
   "execution_count": 61,
   "id": "33ef6e01-9342-4064-9358-ddc2c4d672dc",
   "metadata": {},
   "outputs": [
    {
     "name": "stdout",
     "output_type": "stream",
     "text": [
      "Epoch 1/20\n",
      "381/381 [==============================] - 40s 101ms/step - loss: 0.6855 - accuracy: 0.5683 - val_loss: 0.6829 - val_accuracy: 0.5739\n",
      "Epoch 2/20\n",
      "381/381 [==============================] - 35s 91ms/step - loss: 0.6847 - accuracy: 0.5695 - val_loss: 0.6823 - val_accuracy: 0.5739\n",
      "Epoch 3/20\n",
      "381/381 [==============================] - 37s 97ms/step - loss: 0.6850 - accuracy: 0.5672 - val_loss: 0.6830 - val_accuracy: 0.5739\n",
      "Epoch 4/20\n",
      "381/381 [==============================] - 34s 90ms/step - loss: 0.5282 - accuracy: 0.7384 - val_loss: 0.5030 - val_accuracy: 0.7800\n",
      "Epoch 5/20\n",
      "381/381 [==============================] - 34s 89ms/step - loss: 0.3151 - accuracy: 0.8773 - val_loss: 0.5065 - val_accuracy: 0.7794\n",
      "Epoch 6/20\n",
      "381/381 [==============================] - 33s 87ms/step - loss: 0.2181 - accuracy: 0.9241 - val_loss: 0.6402 - val_accuracy: 0.7584\n",
      "Epoch 7/20\n",
      "381/381 [==============================] - 33s 86ms/step - loss: 0.1458 - accuracy: 0.9511 - val_loss: 0.6580 - val_accuracy: 0.7551\n",
      "Epoch 8/20\n",
      "381/381 [==============================] - 33s 87ms/step - loss: 0.1106 - accuracy: 0.9632 - val_loss: 0.8812 - val_accuracy: 0.7426\n",
      "Epoch 9/20\n",
      "381/381 [==============================] - 35s 91ms/step - loss: 0.0876 - accuracy: 0.9704 - val_loss: 0.8917 - val_accuracy: 0.7439\n"
     ]
    },
    {
     "data": {
      "text/plain": [
       "<keras.src.callbacks.History at 0x7f1fc9a13f50>"
      ]
     },
     "execution_count": 61,
     "metadata": {},
     "output_type": "execute_result"
    }
   ],
   "source": [
    "SimpleEmbeddingModel2.fit(trainSequence, y_train, epochs=20, batch_size=16, validation_data=(validateSequence, y_val), callbacks=[early_stopping])"
   ]
  },
  {
   "cell_type": "markdown",
   "id": "b26647a2-fdab-4866-b975-ebfb19d551de",
   "metadata": {},
   "source": [
    "We see that this new model is able to learn an accurate embedding to classify the tweets as containing information about a natural disaster or not, however as the model is trained longer it begins to overfit. Because of this, we will decrease the output_dim in the embedding matrix, increase the dropout amount, and add a bidirectional modifier to the model."
   ]
  },
  {
   "cell_type": "code",
   "execution_count": 62,
   "id": "0648465f-4b39-46c4-b31f-d418bb7b1ab5",
   "metadata": {},
   "outputs": [
    {
     "name": "stdout",
     "output_type": "stream",
     "text": [
      "WARNING:tensorflow:Layer gru_5 will not use cuDNN kernels since it doesn't meet the criteria. It will use a generic GPU kernel as fallback when running on GPU.\n",
      "WARNING:tensorflow:Layer gru_5 will not use cuDNN kernels since it doesn't meet the criteria. It will use a generic GPU kernel as fallback when running on GPU.\n",
      "WARNING:tensorflow:Layer gru_5 will not use cuDNN kernels since it doesn't meet the criteria. It will use a generic GPU kernel as fallback when running on GPU.\n"
     ]
    }
   ],
   "source": [
    "SimpleEmbeddingModel3 = Sequential([\n",
    "    Embedding(input_dim = VOCAB_SIZE, output_dim=50),\n",
    "    Bidirectional(GRU(64, recurrent_dropout=0.3)),\n",
    "    Dense(32, activation='relu'),\n",
    "    Dropout(0.3),\n",
    "    Dense(1, activation='sigmoid')\n",
    "])\n",
    "SimpleEmbeddingModel3.compile(optimizer = 'adam', loss = 'binary_crossentropy', metrics = ['accuracy'])"
   ]
  },
  {
   "cell_type": "code",
   "execution_count": 63,
   "id": "605678c7-6c81-48f0-a929-7a4806973a35",
   "metadata": {},
   "outputs": [
    {
     "name": "stdout",
     "output_type": "stream",
     "text": [
      "Epoch 1/20\n",
      "381/381 [==============================] - 73s 186ms/step - loss: 0.5371 - accuracy: 0.7194 - val_loss: 0.4382 - val_accuracy: 0.8063\n",
      "Epoch 2/20\n",
      "381/381 [==============================] - 64s 168ms/step - loss: 0.3308 - accuracy: 0.8660 - val_loss: 0.4828 - val_accuracy: 0.7748\n",
      "Epoch 3/20\n",
      "381/381 [==============================] - 62s 163ms/step - loss: 0.2236 - accuracy: 0.9187 - val_loss: 0.5386 - val_accuracy: 0.7820\n",
      "Epoch 4/20\n",
      "381/381 [==============================] - 63s 164ms/step - loss: 0.1534 - accuracy: 0.9479 - val_loss: 0.6326 - val_accuracy: 0.7708\n",
      "Epoch 5/20\n",
      "381/381 [==============================] - 63s 164ms/step - loss: 0.1090 - accuracy: 0.9626 - val_loss: 0.8215 - val_accuracy: 0.7505\n",
      "Epoch 6/20\n",
      "381/381 [==============================] - 63s 166ms/step - loss: 0.0795 - accuracy: 0.9711 - val_loss: 1.0488 - val_accuracy: 0.7551\n",
      "Epoch 7/20\n",
      "381/381 [==============================] - 68s 179ms/step - loss: 0.0654 - accuracy: 0.9741 - val_loss: 1.1589 - val_accuracy: 0.7479\n",
      "Epoch 8/20\n",
      "381/381 [==============================] - 64s 169ms/step - loss: 0.0525 - accuracy: 0.9762 - val_loss: 1.0523 - val_accuracy: 0.7557\n"
     ]
    },
    {
     "data": {
      "text/plain": [
       "<keras.src.callbacks.History at 0x7f1fc947bc10>"
      ]
     },
     "execution_count": 63,
     "metadata": {},
     "output_type": "execute_result"
    }
   ],
   "source": [
    "SimpleEmbeddingModel3.fit(trainSequence, y_train, epochs=20, batch_size=16, validation_data=(validateSequence, y_val), callbacks=[early_stopping])"
   ]
  },
  {
   "cell_type": "markdown",
   "id": "2175e9e3-ed94-4389-a50e-968d3eb00ba2",
   "metadata": {},
   "source": [
    "This model again performs better but begins to overfit the data as more epochs are performed."
   ]
  },
  {
   "cell_type": "code",
   "execution_count": 44,
   "id": "94b58235-63c9-41d7-8c4a-281fb9ebd6af",
   "metadata": {},
   "outputs": [
    {
     "name": "stdout",
     "output_type": "stream",
     "text": [
      "WARNING:tensorflow:Layer gru will not use cuDNN kernels since it doesn't meet the criteria. It will use a generic GPU kernel as fallback when running on GPU.\n",
      "WARNING:tensorflow:Layer gru will not use cuDNN kernels since it doesn't meet the criteria. It will use a generic GPU kernel as fallback when running on GPU.\n",
      "WARNING:tensorflow:Layer gru will not use cuDNN kernels since it doesn't meet the criteria. It will use a generic GPU kernel as fallback when running on GPU.\n"
     ]
    }
   ],
   "source": [
    "# Build the model\n",
    "Glove_model = Sequential([\n",
    "    Embedding(input_dim=num_words,\n",
    "              output_dim=Glove_embedding_dim,\n",
    "              weights = [Glove_embedding_matrix],\n",
    "              input_length = 30,\n",
    "              trainable=False),\n",
    "    Bidirectional(GRU(64, activation='relu', recurrent_dropout=0.3)),\n",
    "    Dense(32, activation='relu'),\n",
    "    Dropout(0.3),\n",
    "    Dense(1, activation='sigmoid')  # Use sigmoid for binary classification\n",
    "])"
   ]
  },
  {
   "cell_type": "code",
   "execution_count": 45,
   "id": "1c038b29-afef-4acd-bd93-cedb511dc617",
   "metadata": {},
   "outputs": [
    {
     "name": "stdout",
     "output_type": "stream",
     "text": [
      "Model: \"sequential\"\n",
      "_________________________________________________________________\n",
      " Layer (type)                Output Shape              Param #   \n",
      "=================================================================\n",
      " embedding (Embedding)       (None, 30, 300)           2250000   \n",
      "                                                                 \n",
      " bidirectional (Bidirection  (None, 128)               140544    \n",
      " al)                                                             \n",
      "                                                                 \n",
      " dense (Dense)               (None, 32)                4128      \n",
      "                                                                 \n",
      " dropout_20 (Dropout)        (None, 32)                0         \n",
      "                                                                 \n",
      " dense_1 (Dense)             (None, 1)                 33        \n",
      "                                                                 \n",
      "=================================================================\n",
      "Total params: 2394705 (9.14 MB)\n",
      "Trainable params: 144705 (565.25 KB)\n",
      "Non-trainable params: 2250000 (8.58 MB)\n",
      "_________________________________________________________________\n"
     ]
    }
   ],
   "source": [
    "Glove_model.summary()"
   ]
  },
  {
   "cell_type": "code",
   "execution_count": 46,
   "id": "11baba6f-18fe-4414-8d86-fb73a7818acd",
   "metadata": {},
   "outputs": [
    {
     "name": "stdout",
     "output_type": "stream",
     "text": [
      "Epoch 1/20\n",
      "381/381 [==============================] - 62s 155ms/step - loss: 0.5216 - accuracy: 0.7521 - val_loss: 0.4301 - val_accuracy: 0.8207\n",
      "Epoch 2/20\n",
      "381/381 [==============================] - 59s 154ms/step - loss: 0.4229 - accuracy: 0.8194 - val_loss: 0.4340 - val_accuracy: 0.8129\n",
      "Epoch 3/20\n",
      "381/381 [==============================] - 58s 153ms/step - loss: 0.3788 - accuracy: 0.8473 - val_loss: 0.4392 - val_accuracy: 0.8155\n",
      "Epoch 4/20\n",
      "381/381 [==============================] - 58s 152ms/step - loss: 0.3358 - accuracy: 0.8580 - val_loss: 0.4615 - val_accuracy: 0.8142\n",
      "Epoch 5/20\n",
      "381/381 [==============================] - 65s 170ms/step - loss: 0.3004 - accuracy: 0.8749 - val_loss: 0.4942 - val_accuracy: 0.7965\n",
      "Epoch 6/20\n",
      "381/381 [==============================] - 62s 162ms/step - loss: 0.2719 - accuracy: 0.8864 - val_loss: 0.5898 - val_accuracy: 0.7827\n",
      "Epoch 7/20\n",
      "381/381 [==============================] - 59s 154ms/step - loss: 0.2327 - accuracy: 0.9062 - val_loss: 0.5984 - val_accuracy: 0.7925\n",
      "Epoch 8/20\n",
      "381/381 [==============================] - 58s 153ms/step - loss: 0.1988 - accuracy: 0.9176 - val_loss: 0.7165 - val_accuracy: 0.7741\n"
     ]
    },
    {
     "data": {
      "text/plain": [
       "<keras.src.callbacks.History at 0x7f1fcace4550>"
      ]
     },
     "execution_count": 46,
     "metadata": {},
     "output_type": "execute_result"
    }
   ],
   "source": [
    "# Compile the model\n",
    "Glove_model.compile(optimizer='adam', loss='binary_crossentropy', metrics=['accuracy'])\n",
    "\n",
    "# Train the model\n",
    "Glove_model.fit(trainSequence, y_train, epochs=20, batch_size=16, validation_data=(validateSequence, y_val), callbacks=[early_stopping])"
   ]
  },
  {
   "cell_type": "markdown",
   "id": "216adf36-78f4-4a6f-8402-15d1d2419976",
   "metadata": {},
   "source": [
    "Testing the same code with Word2Vec instead of GloVe"
   ]
  },
  {
   "cell_type": "code",
   "execution_count": 47,
   "id": "9ebfcba2-8b00-44fa-9c03-441175a2d80f",
   "metadata": {},
   "outputs": [
    {
     "name": "stdout",
     "output_type": "stream",
     "text": [
      "WARNING:tensorflow:Layer gru_1 will not use cuDNN kernels since it doesn't meet the criteria. It will use a generic GPU kernel as fallback when running on GPU.\n",
      "WARNING:tensorflow:Layer gru_1 will not use cuDNN kernels since it doesn't meet the criteria. It will use a generic GPU kernel as fallback when running on GPU.\n",
      "WARNING:tensorflow:Layer gru_1 will not use cuDNN kernels since it doesn't meet the criteria. It will use a generic GPU kernel as fallback when running on GPU.\n",
      "Epoch 1/20\n",
      "381/381 [==============================] - 61s 154ms/step - loss: 0.5669 - accuracy: 0.7246 - val_loss: 0.4728 - val_accuracy: 0.7938\n",
      "Epoch 2/20\n",
      "381/381 [==============================] - 60s 157ms/step - loss: 0.4360 - accuracy: 0.8082 - val_loss: 0.4545 - val_accuracy: 0.8011\n",
      "Epoch 3/20\n",
      "381/381 [==============================] - 63s 164ms/step - loss: 0.3962 - accuracy: 0.8325 - val_loss: 0.4565 - val_accuracy: 0.7971\n",
      "Epoch 4/20\n",
      "381/381 [==============================] - 60s 157ms/step - loss: 0.3694 - accuracy: 0.8463 - val_loss: 0.4606 - val_accuracy: 0.8056\n",
      "Epoch 5/20\n",
      "381/381 [==============================] - 59s 155ms/step - loss: 0.3481 - accuracy: 0.8521 - val_loss: 0.4697 - val_accuracy: 0.8030\n",
      "Epoch 6/20\n",
      "381/381 [==============================] - 59s 155ms/step - loss: 0.3288 - accuracy: 0.8621 - val_loss: 0.5114 - val_accuracy: 0.7938\n",
      "Epoch 7/20\n",
      "381/381 [==============================] - 59s 154ms/step - loss: 0.3131 - accuracy: 0.8713 - val_loss: 0.5092 - val_accuracy: 0.8050\n",
      "Epoch 8/20\n",
      "381/381 [==============================] - 58s 153ms/step - loss: 0.2884 - accuracy: 0.8803 - val_loss: 0.5194 - val_accuracy: 0.7997\n",
      "Epoch 9/20\n",
      "381/381 [==============================] - 63s 166ms/step - loss: 0.2686 - accuracy: 0.8857 - val_loss: 0.6138 - val_accuracy: 0.7866\n"
     ]
    },
    {
     "data": {
      "text/plain": [
       "<keras.src.callbacks.History at 0x7f1fc8833910>"
      ]
     },
     "execution_count": 47,
     "metadata": {},
     "output_type": "execute_result"
    }
   ],
   "source": [
    "word2vec_model = Sequential([\n",
    "    Embedding(input_dim=num_words,\n",
    "              output_dim=Word2Vec_embedding_dim,\n",
    "              weights = [Word2Vec_embedding_matrix],\n",
    "              input_length = 30,\n",
    "              trainable=False),\n",
    "    Bidirectional(GRU(64, activation='relu', recurrent_dropout=0.3)),\n",
    "    Dense(32, activation='relu'),\n",
    "    Dropout(0.3),\n",
    "    Dense(1, activation='sigmoid')  # Use sigmoid for binary classification\n",
    "])\n",
    "word2vec_model.compile(optimizer='adam', loss='binary_crossentropy', metrics=['accuracy'])\n",
    "word2vec_model.fit(trainSequence, y_train, epochs=20, batch_size=16, validation_data=(validateSequence, y_val), callbacks=[early_stopping])"
   ]
  },
  {
   "cell_type": "markdown",
   "id": "50778ea5-2aac-4345-96dc-2690b88efdaa",
   "metadata": {},
   "source": [
    "Next we will check if making the embedding matrix tuneable will help our performance"
   ]
  },
  {
   "cell_type": "code",
   "execution_count": 48,
   "id": "a42628fa-50c6-4e39-8665-79b6c72ab2a8",
   "metadata": {},
   "outputs": [
    {
     "name": "stdout",
     "output_type": "stream",
     "text": [
      "WARNING:tensorflow:Layer gru_2 will not use cuDNN kernels since it doesn't meet the criteria. It will use a generic GPU kernel as fallback when running on GPU.\n",
      "WARNING:tensorflow:Layer gru_2 will not use cuDNN kernels since it doesn't meet the criteria. It will use a generic GPU kernel as fallback when running on GPU.\n",
      "WARNING:tensorflow:Layer gru_2 will not use cuDNN kernels since it doesn't meet the criteria. It will use a generic GPU kernel as fallback when running on GPU.\n",
      "Epoch 1/20\n",
      "381/381 [==============================] - 73s 183ms/step - loss: 0.5192 - accuracy: 0.7491 - val_loss: 0.4283 - val_accuracy: 0.8162\n",
      "Epoch 2/20\n",
      "381/381 [==============================] - 63s 165ms/step - loss: 0.3596 - accuracy: 0.8521 - val_loss: 0.4396 - val_accuracy: 0.8102\n",
      "Epoch 3/20\n",
      "381/381 [==============================] - 62s 163ms/step - loss: 0.2679 - accuracy: 0.8926 - val_loss: 0.4877 - val_accuracy: 0.7912\n",
      "Epoch 4/20\n",
      "381/381 [==============================] - 63s 164ms/step - loss: 0.1866 - accuracy: 0.9238 - val_loss: 0.6592 - val_accuracy: 0.7859\n",
      "Epoch 5/20\n",
      "381/381 [==============================] - 67s 175ms/step - loss: 0.1243 - accuracy: 0.9511 - val_loss: 0.8723 - val_accuracy: 0.7689\n",
      "Epoch 6/20\n",
      "381/381 [==============================] - 67s 175ms/step - loss: 0.0907 - accuracy: 0.9632 - val_loss: 0.9581 - val_accuracy: 0.7722\n",
      "Epoch 7/20\n",
      "381/381 [==============================] - 63s 165ms/step - loss: 0.0679 - accuracy: 0.9719 - val_loss: 0.9854 - val_accuracy: 0.7617\n"
     ]
    },
    {
     "data": {
      "text/plain": [
       "<keras.src.callbacks.History at 0x7f1fc87c6650>"
      ]
     },
     "execution_count": 48,
     "metadata": {},
     "output_type": "execute_result"
    }
   ],
   "source": [
    "Glove_model_tuneable = Sequential([\n",
    "    Embedding(input_dim=num_words,\n",
    "              output_dim=Glove_embedding_dim,\n",
    "              weights = [Glove_embedding_matrix],\n",
    "              input_length = 30,\n",
    "              trainable=True),\n",
    "    Bidirectional(GRU(64, activation='relu', recurrent_dropout=0.3)),\n",
    "    Dense(32, activation='relu'),\n",
    "    Dropout(0.3),\n",
    "    Dense(1, activation='sigmoid')  # Use sigmoid for binary classification\n",
    "])\n",
    "Glove_model_tuneable.compile(optimizer=tf.keras.optimizers.Adam(clipvalue=1.0), loss='binary_crossentropy', metrics=['accuracy'])\n",
    "Glove_model_tuneable.fit(trainSequence, y_train, epochs=20, batch_size=16, validation_data=(validateSequence, y_val), callbacks=[early_stopping])"
   ]
  },
  {
   "cell_type": "code",
   "execution_count": 49,
   "id": "e8bb20dd-f154-4f48-b01e-f2aba4f60cc1",
   "metadata": {},
   "outputs": [
    {
     "name": "stdout",
     "output_type": "stream",
     "text": [
      "WARNING:tensorflow:Layer gru_3 will not use cuDNN kernels since it doesn't meet the criteria. It will use a generic GPU kernel as fallback when running on GPU.\n",
      "WARNING:tensorflow:Layer gru_3 will not use cuDNN kernels since it doesn't meet the criteria. It will use a generic GPU kernel as fallback when running on GPU.\n",
      "WARNING:tensorflow:Layer gru_3 will not use cuDNN kernels since it doesn't meet the criteria. It will use a generic GPU kernel as fallback when running on GPU.\n",
      "Epoch 1/20\n",
      "381/381 [==============================] - 69s 175ms/step - loss: 0.5329 - accuracy: 0.7360 - val_loss: 0.4397 - val_accuracy: 0.8024\n",
      "Epoch 2/20\n",
      "381/381 [==============================] - 63s 166ms/step - loss: 0.3526 - accuracy: 0.8567 - val_loss: 0.4757 - val_accuracy: 0.7886\n",
      "Epoch 3/20\n",
      "381/381 [==============================] - 64s 168ms/step - loss: 0.2494 - accuracy: 0.9031 - val_loss: 0.5260 - val_accuracy: 0.7866\n",
      "Epoch 4/20\n",
      "381/381 [==============================] - 68s 178ms/step - loss: 0.1722 - accuracy: 0.9348 - val_loss: 0.6343 - val_accuracy: 0.7722\n",
      "Epoch 5/20\n",
      "381/381 [==============================] - 65s 170ms/step - loss: 0.1133 - accuracy: 0.9558 - val_loss: 0.9381 - val_accuracy: 0.7597\n",
      "Epoch 6/20\n",
      "381/381 [==============================] - 66s 174ms/step - loss: 0.0830 - accuracy: 0.9673 - val_loss: 1.1221 - val_accuracy: 0.7492\n",
      "Epoch 7/20\n",
      "381/381 [==============================] - 64s 167ms/step - loss: 0.0710 - accuracy: 0.9718 - val_loss: 1.2662 - val_accuracy: 0.7439\n"
     ]
    },
    {
     "data": {
      "text/plain": [
       "<keras.src.callbacks.History at 0x7f206ea6e650>"
      ]
     },
     "execution_count": 49,
     "metadata": {},
     "output_type": "execute_result"
    }
   ],
   "source": [
    "word2vec_model_tuneable = Sequential([\n",
    "    Embedding(input_dim=num_words,\n",
    "              output_dim=Word2Vec_embedding_dim,\n",
    "              weights = [Word2Vec_embedding_matrix],\n",
    "              input_length = 30,\n",
    "              trainable=True),\n",
    "    Bidirectional(GRU(64, activation='relu', recurrent_dropout=0.3)),\n",
    "    Dense(32, activation='relu'),\n",
    "    Dropout(0.3),\n",
    "    Dense(1, activation='sigmoid')  # Use sigmoid for binary classification\n",
    "])\n",
    "word2vec_model_tuneable.compile(optimizer='adam', loss='binary_crossentropy', metrics=['accuracy'])\n",
    "word2vec_model_tuneable.fit(trainSequence, y_train, epochs=20, batch_size=16, validation_data=(validateSequence, y_val), callbacks=[early_stopping])"
   ]
  },
  {
   "cell_type": "markdown",
   "id": "77e53a34-a6d9-4eda-a055-e0218f0e46d0",
   "metadata": {},
   "source": [
    "We can see that allowing the embedding matrix to be tuneable leads to overfitting and a decrease on our validation data."
   ]
  },
  {
   "cell_type": "markdown",
   "id": "cd39913e-a805-47b6-9e70-20cdfe8e2c78",
   "metadata": {},
   "source": [
    "# Results and Analysis"
   ]
  },
  {
   "cell_type": "markdown",
   "id": "8e130e07-a8f3-4821-bb2a-f1ac85ff109c",
   "metadata": {
    "jp-MarkdownHeadingCollapsed": true
   },
   "source": [
    "## Helper functions"
   ]
  },
  {
   "cell_type": "code",
   "execution_count": 50,
   "id": "d698d5e6-f3c0-4df2-bf96-ac8baa563be3",
   "metadata": {},
   "outputs": [],
   "source": [
    "from sklearn import metrics\n",
    "def displayMetrics(predictions, y_true, modelName):\n",
    "    fpr, tpr, thresholds = metrics.roc_curve(y_true, predictions)\n",
    "    roc_auc = metrics.auc(fpr,tpr)\n",
    "    display = metrics.RocCurveDisplay(fpr = fpr, tpr = tpr, roc_auc=roc_auc, estimator_name=modelName)\n",
    "    display.plot()\n",
    "    plt.title(\"ROC Curve for {}\".format(modelName))\n",
    "    plt.show()\n",
    "    precision, recall, _ = metrics.precision_recall_curve(y_true, predictions)\n",
    "    disp = metrics.PrecisionRecallDisplay(precision=precision, recall=recall)\n",
    "    disp.plot()\n",
    "    plt.title(\"Precision Vs Recall for {}\".format(modelName))\n",
    "    plt.show()\n",
    "\n",
    "    metrics.ConfusionMatrixDisplay.from_predictions(y_true, np.round(predictions.reshape(None,)))\n",
    "    plt.title(\"{} Confusion Matrix\".format(modelName))\n",
    "    plt.show()\n",
    "\n",
    "    print(\"Precision score: {}\\nRecall score: {}\".format(\n",
    "        metrics.precision_score(y_true, np.round(predictions.reshape(None,))), metrics.recall_score(y_true, np.round(predictions.reshape(None,)))\n",
    "    ))"
   ]
  },
  {
   "cell_type": "code",
   "execution_count": 113,
   "id": "e114551b-84ed-474a-8644-0a2bbb47c265",
   "metadata": {},
   "outputs": [],
   "source": [
    "def displayROCMultiple(modelPredictions: list, y_true_list: list, modelNames: list):\n",
    "    plt.figure()\n",
    "    for i in range(len(modelNames)):\n",
    "        predictions = modelPredictions[i]\n",
    "        y_true = y_true_list[i]\n",
    "        modelName = modelNames[i]\n",
    "        fpr, tpr, thresholds = metrics.roc_curve(y_true, predictions)\n",
    "        roc_auc = metrics.auc(fpr,tpr)\n",
    "        plt.plot(fpr, tpr, label=\"{} : (AUC = {:.2f})\".format(modelName, roc_auc))\n",
    "    plt.xlabel(\"False Positive Rate\")\n",
    "    plt.ylabel(\"True Positive Rate\")\n",
    "    plt.title(\"ROC Curve for Models\")\n",
    "    plt.legend(loc=\"lower right\")\n",
    "    plt.grid()\n",
    "    plt.show()"
   ]
  },
  {
   "cell_type": "code",
   "execution_count": 132,
   "id": "c1fce630-4bb6-4552-884e-e63ac8a8880e",
   "metadata": {},
   "outputs": [],
   "source": [
    "def displayPrecisionVsRecallMultiple(modelPredictions: list, y_true_list: list, modelNames: list):\n",
    "    plt.figure()\n",
    "    for i in range(len(modelNames)):\n",
    "        predictions = modelPredictions[i]\n",
    "        y_true = y_true_list[i]\n",
    "        modelName = modelNames[i]\n",
    "        precision, recall, _ = metrics.precision_recall_curve(y_true, predictions)\n",
    "        plt.plot(recall, precision, label = \"{}: Precision: {:.2f}, Recall: {:.2f}\".format(modelName, \n",
    "                                                                                           metrics.precision_score(y_true, np.round(predictions.reshape(None,))), \n",
    "                                                                                           metrics.recall_score(y_true, np.round(predictions.reshape(None,)))))\n",
    "    plt.xlabel(\"Recall\")\n",
    "    plt.ylabel(\"Precision\")\n",
    "    plt.title(\"Precision vs Recall for Models\")\n",
    "    plt.legend(loc=\"lower left\")\n",
    "    plt.grid()\n",
    "    plt.show()"
   ]
  },
  {
   "cell_type": "code",
   "execution_count": 123,
   "id": "843fc2e9-7533-41dc-b77f-792fb013e83b",
   "metadata": {},
   "outputs": [],
   "source": [
    "def displayConfusionMatrixSingle(modelPredictions: list, y_true_list: list, modelNames: list):\n",
    "    fig, axes = plt.subplots(nrows = (len(modelNames)+1) // 2, ncols = 2, figsize = (12,6))\n",
    "    col = 0\n",
    "    axes = axes.ravel()\n",
    "    for i in range(len(modelNames)):\n",
    "        predictions = modelPredictions[i]\n",
    "        y_true = y_true_list[i]\n",
    "        modelName = modelNames[i]\n",
    "        metrics.ConfusionMatrixDisplay.from_predictions(y_true, np.round(predictions.reshape(None,)), ax=axes[i])\n",
    "        axes[i].set_title(\"{} Confusion Matrix\".format(modelName))\n",
    "    for j in range(len(modelNames), len(axes)):\n",
    "        axes[j].axis('off')\n",
    "    plt.tight_layout()\n",
    "    plt.show()"
   ]
  },
  {
   "cell_type": "code",
   "execution_count": 103,
   "id": "1f88753a-eb91-4687-97c4-8241c280ed98",
   "metadata": {},
   "outputs": [
    {
     "name": "stdout",
     "output_type": "stream",
     "text": [
      "96/96 [==============================] - 2s 21ms/step\n",
      "48/48 [==============================] - 1s 16ms/step\n",
      "48/48 [==============================] - 1s 15ms/step\n",
      "48/48 [==============================] - 1s 16ms/step\n"
     ]
    }
   ],
   "source": [
    "modelPredictions = []\n",
    "y_true_list = []\n",
    "modelNames = []\n",
    "\n",
    "# Bert Model\n",
    "predictions = BertModel.predict(tf_validation_set) # return values are logits so we must convert to class probabilities\n",
    "probabilities = tf.nn.softmax(predictions.logits, axis = 1).numpy()\n",
    "classPredictions = probabilities[:,1]\n",
    "modelPredictions.append(classPredictions)\n",
    "y_true_list.append(tokenizedVal['label'])\n",
    "modelNames.append(\"Bert LLM Model\")\n",
    "\n",
    "# SimpleModel3\n",
    "modelPredictions.append(SimpleEmbeddingModel3.predict(validateSequence)[:,0])\n",
    "y_true_list.append(y_val)\n",
    "modelNames.append(\"Simple Model 3\")\n",
    "\n",
    "# Glove Model\n",
    "modelPredictions.append(Glove_model.predict(validateSequence)[:,0])\n",
    "y_true_list.append(y_val)\n",
    "modelNames.append(\"GloVe Model\")\n",
    "\n",
    "# Word2Vec Model\n",
    "modelPredictions.append(word2vec_model.predict(validateSequence)[:,0])\n",
    "y_true_list.append(y_val)\n",
    "modelNames.append(\"Word2Vec Model\")"
   ]
  },
  {
   "cell_type": "markdown",
   "id": "b2a0fac3-b25e-49b9-b1bf-1b80608a4073",
   "metadata": {},
   "source": [
    "## ROC Curves"
   ]
  },
  {
   "cell_type": "code",
   "execution_count": 114,
   "id": "cdab1bc2-bc96-49bd-a843-6dc2ba8d925e",
   "metadata": {},
   "outputs": [
    {
     "data": {
      "image/png": "[encoded data removed]",
      "text/plain": [
       "<Figure size 640x480 with 1 Axes>"
      ]
     },
     "metadata": {},
     "output_type": "display_data"
    }
   ],
   "source": [
    "displayROCMultiple(modelPredictions, y_true_list, modelNames)"
   ]
  },
  {
   "cell_type": "markdown",
   "id": "cd5553da-02d8-4347-bab4-28b3e9d15a61",
   "metadata": {},
   "source": [
    "## Precision Recall Curves"
   ]
  },
  {
   "cell_type": "code",
   "execution_count": 133,
   "id": "d258eb44-737c-464c-bf6a-8912a6e2e0b2",
   "metadata": {},
   "outputs": [
    {
     "data": {
      "image/png": "[encoded data removed]",
      "text/plain": [
       "<Figure size 640x480 with 1 Axes>"
      ]
     },
     "metadata": {},
     "output_type": "display_data"
    }
   ],
   "source": [
    "displayPrecisionVsRecallMultiple(modelPredictions, y_true_list, modelNames)"
   ]
  },
  {
   "cell_type": "markdown",
   "id": "4b087aa2-533c-4dc9-b81d-bda0691d9495",
   "metadata": {},
   "source": [
    "## Confusion Matrices"
   ]
  },
  {
   "cell_type": "code",
   "execution_count": 124,
   "id": "d862e150-9e6f-4cb6-9a86-59c040c7aa07",
   "metadata": {},
   "outputs": [
    {
     "data": {
      "image/png": "[encoded data removed]",
      "text/plain": [
       "<Figure size 1200x600 with 8 Axes>"
      ]
     },
     "metadata": {},
     "output_type": "display_data"
    }
   ],
   "source": [
    "displayConfusionMatrixSingle(modelPredictions, y_true_list, modelNames)"
   ]
  },
  {
   "cell_type": "markdown",
   "id": "816e9436-a2b6-49af-bb03-fdbd5b79679d",
   "metadata": {},
   "source": [
    "## Analysis\n",
    "We can see that the Bert model performed better in every metric than the rest of the models, with our simple Model only being slightly worse than the pretrained embedding models such as Glove and Word2Vec. "
   ]
  },
  {
   "cell_type": "markdown",
   "id": "6b266758-6dc8-401e-99d7-c115323c418a",
   "metadata": {},
   "source": [
    "# Discussion and Conclusions\n",
    "I believe that the Bert language model was the best performing because it had already been trained for semantic analysis. It uses state of the art methods to create an accurate embedding matrix. While I did not expect our smaller and simpler methods to be able to predict as accurately as the LLM, our models trained with the Glove embeddings, Word2Vec embeddings, and even embeddings from scratch were able to perform closely to this model. Some methods that assisted in this was including Bidirectional cells and using GRU cells instead of standard recurrence cells. I believe this allowed the model to understand more context from the tweet rather than possibly memorizing the location of a word related to natural disaster in the tweet.\n",
    "\n",
    "## Limitations\n",
    "One of the limitations of our project was the initial limited experience with LLM's and modeling text sequences. \n",
    "\n",
    "## Future\n",
    "In the future I would like to experiment with different size embedding matrices, different forms of data preprocessing on text, and different LLM models that may be more suited to this problem (Bert was benchmark used in guide to problem)"
   ]
  },
  {
   "cell_type": "markdown",
   "id": "3f6ab4dc-7cee-42fd-a4fb-d03560299681",
   "metadata": {},
   "source": [
    "# References\n",
    "1. https://www.kaggle.com/competitions/nlp-getting-started\n",
    "2. https://www.kaggle.com/code/harshsingh2209/complete-guide-to-eda-on-text-data\n",
    "3. https://www.huggingface.co/docs/transformers/en/training\n",
    "4. https://huggingface.co/docs/transformers/en/main_classes/optimizer_schedules\n",
    "5. https://huggingface.co/docs/transformers/v4.46.3/en/main_classes/model#transformers.TFPreTrainedModel.prepare_tf_dataset\n",
    "6. https://jonathan-hui.medium.com/nlp-word-embedding-glove-5e7f523999f6\n",
    "7. https://medium.com/@manansuri/a-dummys-guide-to-word2vec-456444f3c673"
   ]
  },
  {
   "cell_type": "code",
   "execution_count": null,
   "id": "5c5ca37b-c79b-41a4-a905-3cf016ad70f9",
   "metadata": {},
   "outputs": [],
   "source": []
  }
 ],
 "metadata": {
  "kernelspec": {
   "display_name": "Python 3 (ipykernel)",
   "language": "python",
   "name": "python3"
  },
  "language_info": {
   "codemirror_mode": {
    "name": "ipython",
    "version": 3
   },
   "file_extension": ".py",
   "mimetype": "text/x-python",
   "name": "python",
   "nbconvert_exporter": "python",
   "pygments_lexer": "ipython3",
   "version": "3.11.0rc1"
  }
 },
 "nbformat": 4,
 "nbformat_minor": 5
}
